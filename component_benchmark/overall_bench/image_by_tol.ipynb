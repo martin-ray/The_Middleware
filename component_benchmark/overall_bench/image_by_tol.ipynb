{
 "cells": [
  {
   "cell_type": "code",
   "execution_count": 1,
   "metadata": {},
   "outputs": [],
   "source": [
    "import h5py \n",
    "import numpy as np\n",
    "import _mgard as mgard\n",
    "import time\n",
    "\n",
    "from tqdm import tqdm"
   ]
  },
  {
   "cell_type": "code",
   "execution_count": 10,
   "id": "1a115f56",
   "metadata": {},
   "outputs": [],
   "source": [
    "\n",
    "class Slicer:\n",
    "\n",
    "    # default 引数\n",
    "    def __init__(self,filename=\"/scratch/aoyagir/step1_500_test.h5\") -> None:\n",
    "        self.filename = filename\n",
    "        self.file = h5py.File(filename, 'r')\n",
    "        self.dataset = self.file['data']\n",
    "        print(self.dataset.shape)\n",
    "\n",
    "    # Access specific elements in the concatenated array\n",
    "    def access_array_element(self,timestep, x, y, z):\n",
    "        element = self.dataset[timestep, x, y, z]\n",
    "        return element\n",
    "\n",
    "    # Access a subset of the concatenated array\n",
    "    def slice_multiple_step(self, file, timestep_start, timestep_end, x_start, x_end, y_start, y_end, z_start, z_end):\n",
    "        subset = self.dataset[timestep_start:timestep_end, x_start:x_end, y_start:y_end, z_start:z_end]\n",
    "        return subset\n",
    "    \n",
    "    # slice siingle step\n",
    "    def slice_single_step(self, timestep,  x_start, x_end, y_start, y_end, z_start, z_end):\n",
    "        subset = self.dataset[timestep,  x_start:x_end, y_start:y_end, z_start:z_end]\n",
    "        retsubset = np.squeeze(subset)\n",
    "        return retsubset\n",
    "\n",
    "    # slice sigle step by size\n",
    "    def get_xyz_offset_by_size(self, size):\n",
    "        # 100MB -> 「100/(sizeof(float))」個のデータ\n",
    "        sizeFloat = 4 # byte\n",
    "        return int((size/sizeFloat)**(1/3))\n",
    "\n"
   ]
  },
  {
   "cell_type": "code",
   "execution_count": 11,
   "id": "7c329898",
   "metadata": {},
   "outputs": [
    {
     "name": "stdout",
     "output_type": "stream",
     "text": [
      "(257, 1024, 1024, 1024)\n"
     ]
    }
   ],
   "source": [
    "slicer = Slicer(\"/scratch/aoyagir/step1_256_test_0902.h5\")"
   ]
  },
  {
   "cell_type": "code",
   "execution_count": 12,
   "id": "5f5bcfa7",
   "metadata": {},
   "outputs": [],
   "source": [
    "# create a file to write the results\n",
    "import csv\n",
    "from datetime import datetime\n",
    "\n",
    "# Get the current date and time\n",
    "current_time = datetime.now()\n",
    "\n",
    "# Format the current date and time as a string\n",
    "timestamp = current_time.strftime(\"%Y%m%d_%H%M%S\")\n",
    "\n",
    "# timestep to conduct the benchmark\n",
    "timestep = 0\n"
   ]
  },
  {
   "cell_type": "code",
   "execution_count": 16,
   "id": "92e24145",
   "metadata": {},
   "outputs": [
    {
     "name": "stdout",
     "output_type": "stream",
     "text": [
      "1e-05\n",
      "63\n",
      "[1e-05, 1048576, 115.46810642547464]\n",
      "80\n",
      "[1e-05, 2097152, 113.11041589705331]\n",
      "101\n",
      "[1e-05, 4194304, 109.75245921398282]\n",
      "127\n",
      "[1e-05, 8388608, 106.88988568687407]\n",
      "161\n",
      "[1e-05, 16777216, 108.22153989527126]\n",
      "203\n",
      "[1e-05, 33554432, 110.48372697594488]\n",
      "255\n",
      "[1e-05, 67108864, 115.98918799870472]\n",
      "322\n",
      "[1e-05, 134217728, 115.62137553307383]\n",
      "406\n",
      "[1e-05, 268435456, 115.26235857635648]\n",
      "511\n",
      "[1e-05, 536870912, 116.23810404199055]\n",
      "645\n",
      "[1e-05, 1073741824, 117.39339870783965]\n",
      "812\n"
     ]
    }
   ],
   "source": [
    "# Define the number of repetitions and initialize a list for results\n",
    "\n",
    "results = []\n",
    "tols = [0.00001, 0.00005, 0.0001, 0.0005, 0.001, 0.005, 0.01, 0.02, 0.03, 0.05, 0.1, 0.5, 1]\n",
    "\n",
    "configGPU = mgard.Config()\n",
    "configGPU.dev_type = mgard.DeviceType.CUDA\n",
    "\n",
    "OriginalSize = 4*1024*1024*1024\n",
    "\n",
    "offset = slicer.get_xyz_offset_by_size(OriginalSize)\n",
    "\n",
    "original = slicer.slice_single_step(timestep, 0, offset, 0, offset, 0, offset)\n",
    "\n",
    "data = original[0,:,:]\n",
    "plt.imshow(data, cmap='jet')\n",
    "plt.title(\"original\")\n",
    "plt.savefig(\"./images_by_tol/original_timestep={}.png\".format(tol,timestep))\n",
    "# Wrap your outer loop with tqdm to create a progress bar\n",
    "\n",
    "for tol in tols: # 100 iteration\n",
    "\n",
    "\n",
    "    compressed = mgard.compress(original, tol, 0, mgard.ErrorBoundType.REL, configGPU)\n",
    "\n",
    "    decompressed = mgard.decompress(compressed, configGPU)\n",
    "    data = decompressed[0,:,:]\n",
    "    plt.imshow(data, cmap='jet')\n",
    "    plt.title(\"tol={}\".format(tol))\n",
    "    plt.savefig(\"./images_by_tol/tol={}_timestep={}.png\".format(tol,timestep))\n",
    "\n",
    "# Convert the results list to a NumPy array for easier manipulation\n",
    "results_array = np.array(results)"
   ]
  },
  {
   "cell_type": "code",
   "execution_count": null,
   "id": "b1ac9aa0",
   "metadata": {},
   "outputs": [],
   "source": []
  }
 ],
 "metadata": {
  "kernelspec": {
   "display_name": "Python 3",
   "language": "python",
   "name": "python3"
  },
  "language_info": {
   "codemirror_mode": {
    "name": "ipython",
    "version": 3
   },
   "file_extension": ".py",
   "mimetype": "text/x-python",
   "name": "python",
   "nbconvert_exporter": "python",
   "pygments_lexer": "ipython3",
   "version": "3.10.12"
  }
 },
 "nbformat": 4,
 "nbformat_minor": 5
}
