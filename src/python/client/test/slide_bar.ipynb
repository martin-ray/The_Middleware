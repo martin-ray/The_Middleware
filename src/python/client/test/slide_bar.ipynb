{
 "cells": [
  {
   "cell_type": "code",
   "execution_count": 1,
   "metadata": {},
   "outputs": [
    {
     "data": {
      "application/vnd.jupyter.widget-view+json": {
       "model_id": "d1ae91849eba496c8e79cf22fe66a243",
       "version_major": 2,
       "version_minor": 0
      },
      "text/plain": [
       "FloatSlider(value=0.0, description='Tol:', max=1.0, step=0.0001)"
      ]
     },
     "metadata": {},
     "output_type": "display_data"
    },
    {
     "data": {
      "application/vnd.jupyter.widget-view+json": {
       "model_id": "49cba6ddff5845dd8f14103590fc3fa6",
       "version_major": 2,
       "version_minor": 0
      },
      "text/plain": [
       "IntSlider(value=0, description='t:', max=1024)"
      ]
     },
     "metadata": {},
     "output_type": "display_data"
    },
    {
     "data": {
      "application/vnd.jupyter.widget-view+json": {
       "model_id": "c1dd17d7947e4b218b8bfacc84ed7796",
       "version_major": 2,
       "version_minor": 0
      },
      "text/plain": [
       "IntSlider(value=0, description='x:', max=1024)"
      ]
     },
     "metadata": {},
     "output_type": "display_data"
    },
    {
     "data": {
      "application/vnd.jupyter.widget-view+json": {
       "model_id": "d10fb1f2dd6d42e7b9d59ecb6a951b40",
       "version_major": 2,
       "version_minor": 0
      },
      "text/plain": [
       "IntSlider(value=0, description='y:', max=1024)"
      ]
     },
     "metadata": {},
     "output_type": "display_data"
    },
    {
     "data": {
      "application/vnd.jupyter.widget-view+json": {
       "model_id": "820006434a874ea381ef0f0cb57b7e0f",
       "version_major": 2,
       "version_minor": 0
      },
      "text/plain": [
       "IntSlider(value=0, description='z:', max=1024)"
      ]
     },
     "metadata": {},
     "output_type": "display_data"
    },
    {
     "data": {
      "application/vnd.jupyter.widget-view+json": {
       "model_id": "1e6ec6bfd62548afa512b117f26bc13a",
       "version_major": 2,
       "version_minor": 0
      },
      "text/plain": [
       "IntSlider(value=0, description='x offset:', max=1024)"
      ]
     },
     "metadata": {},
     "output_type": "display_data"
    },
    {
     "data": {
      "application/vnd.jupyter.widget-view+json": {
       "model_id": "9e9b044474614c3e8140c3880658ca78",
       "version_major": 2,
       "version_minor": 0
      },
      "text/plain": [
       "IntSlider(value=0, description='y offset:', max=1024)"
      ]
     },
     "metadata": {},
     "output_type": "display_data"
    },
    {
     "data": {
      "application/vnd.jupyter.widget-view+json": {
       "model_id": "496781b1a1404dde87530768e39b32c1",
       "version_major": 2,
       "version_minor": 0
      },
      "text/plain": [
       "IntSlider(value=0, description='z offset:', max=1024)"
      ]
     },
     "metadata": {},
     "output_type": "display_data"
    }
   ],
   "source": [
    "import ipywidgets as widgets\n",
    "from IPython.display import display\n",
    "\n",
    "# Create a slider widget\n",
    "tol_slider = widgets.FloatSlider(\n",
    "    value=0,       # Initial value\n",
    "    min=0,         # Minimum value\n",
    "    max=1,       # Maximum value\n",
    "    step=0.0001,        # Step size\n",
    "    description='Tol:'\n",
    ")\n",
    "\n",
    "# Create an x bar\n",
    "x_slider = widgets.IntSlider(\n",
    "    value=0,       # Initial value\n",
    "    min=0,         # Minimum value\n",
    "    max=1024,       # Maximum value\n",
    "    step=1,        # Step size\n",
    "    description='x:'\n",
    ")\n",
    "# Define a function to scale the slider value\n",
    "def scale_value(value):\n",
    "    return value / 10000.0\n",
    "\n",
    "\n",
    "# Create an y bar\n",
    "y_slider = widgets.IntSlider(\n",
    "    value=0,       # Initial value\n",
    "    min=0,         # Minimum value\n",
    "    max=1024,       # Maximum value\n",
    "    step=1,        # Step size\n",
    "    description='y:'\n",
    ")\n",
    "\n",
    "# Create an z bar\n",
    "z_slider = widgets.IntSlider(\n",
    "    value=0,       # Initial value\n",
    "    min=0,         # Minimum value\n",
    "    max=1024,       # Maximum value\n",
    "    step=1,        # Step size\n",
    "    description='z:'\n",
    ")\n",
    "\n",
    "# Create an timespte bar\n",
    "t_slider = widgets.IntSlider(\n",
    "    value=0,       # Initial value\n",
    "    min=0,         # Minimum value\n",
    "    max=1024,       # Maximum value\n",
    "    step=1,        # Step size\n",
    "    description='t:'\n",
    ")\n",
    "\n",
    "# Create an timespte bar\n",
    "x_offset_slider = widgets.IntSlider(\n",
    "    value=0,       # Initial value\n",
    "    min=0,         # Minimum value\n",
    "    max=1024,       # Maximum value\n",
    "    step=1,        # Step size\n",
    "    description='x offset:'\n",
    ")\n",
    "\n",
    "y_offset_slider = widgets.IntSlider(\n",
    "    value=0,       # Initial value\n",
    "    min=0,         # Minimum value\n",
    "    max=1024,       # Maximum value\n",
    "    step=1,        # Step size\n",
    "    description='y offset:'\n",
    ")\n",
    "\n",
    "z_offset_slider = widgets.IntSlider(\n",
    "    value=0,       # Initial value\n",
    "    min=0,         # Minimum value\n",
    "    max=1024,       # Maximum value\n",
    "    step=1,        # Step size\n",
    "    description='z offset:'\n",
    ")\n",
    "\n",
    "\n",
    "\n",
    "\n",
    "# Display the slider\n",
    "display(tol_slider)\n",
    "display(t_slider)\n",
    "display(x_slider)\n",
    "display(y_slider)\n",
    "display(z_slider)\n",
    "display(x_offset_slider)\n",
    "display(y_offset_slider)\n",
    "display(z_offset_slider)\n"
   ]
  },
  {
   "cell_type": "code",
   "execution_count": null,
   "metadata": {},
   "outputs": [],
   "source": []
  }
 ],
 "metadata": {
  "kernelspec": {
   "display_name": "Python 3",
   "language": "python",
   "name": "python3"
  },
  "language_info": {
   "codemirror_mode": {
    "name": "ipython",
    "version": 3
   },
   "file_extension": ".py",
   "mimetype": "text/x-python",
   "name": "python",
   "nbconvert_exporter": "python",
   "pygments_lexer": "ipython3",
   "version": "3.10.12"
  },
  "orig_nbformat": 4
 },
 "nbformat": 4,
 "nbformat_minor": 2
}
