{
 "cells": [
  {
   "cell_type": "code",
   "execution_count": 9,
   "metadata": {},
   "outputs": [
    {
     "data": {
      "application/vnd.jupyter.widget-view+json": {
       "model_id": "a0efccc8005c4d299a06e481c0bf5885",
       "version_major": 2,
       "version_minor": 0
      },
      "text/plain": [
       "FloatSlider(value=0.0, description='Tol:', max=1.0, step=0.0001)"
      ]
     },
     "metadata": {},
     "output_type": "display_data"
    },
    {
     "data": {
      "application/vnd.jupyter.widget-view+json": {
       "model_id": "a0efccc8005c4d299a06e481c0bf5885",
       "version_major": 2,
       "version_minor": 0
      },
      "text/plain": [
       "FloatSlider(value=0.0, description='Tol:', max=1.0, step=0.0001)"
      ]
     },
     "metadata": {},
     "output_type": "display_data"
    },
    {
     "data": {
      "application/vnd.jupyter.widget-view+json": {
       "model_id": "50e4f7de9320437e9c2f415577775dca",
       "version_major": 2,
       "version_minor": 0
      },
      "text/plain": [
       "FloatSlider(value=0.0, description='t:', max=1024.0, step=1.0)"
      ]
     },
     "metadata": {},
     "output_type": "display_data"
    },
    {
     "data": {
      "application/vnd.jupyter.widget-view+json": {
       "model_id": "4ec30d6f35c440ccbded56d44d6a5e18",
       "version_major": 2,
       "version_minor": 0
      },
      "text/plain": [
       "FloatSlider(value=0.0, description='x:', max=1024.0, step=1.0)"
      ]
     },
     "metadata": {},
     "output_type": "display_data"
    },
    {
     "data": {
      "application/vnd.jupyter.widget-view+json": {
       "model_id": "e6ca6846dadd43f4bfca8b32513713b5",
       "version_major": 2,
       "version_minor": 0
      },
      "text/plain": [
       "FloatSlider(value=0.0, description='y:', max=1024.0, step=1.0)"
      ]
     },
     "metadata": {},
     "output_type": "display_data"
    },
    {
     "data": {
      "application/vnd.jupyter.widget-view+json": {
       "model_id": "5bb7a8f6f6204e1690622417609c5b65",
       "version_major": 2,
       "version_minor": 0
      },
      "text/plain": [
       "FloatSlider(value=0.0, description='z:', max=1024.0, step=1.0)"
      ]
     },
     "metadata": {},
     "output_type": "display_data"
    }
   ],
   "source": [
    "import ipywidgets as widgets\n",
    "from IPython.display import display\n",
    "\n",
    "# Create a slider widget\n",
    "tol_slider = widgets.FloatSlider(\n",
    "    value=0,       # Initial value\n",
    "    min=0,         # Minimum value\n",
    "    max=1,       # Maximum value\n",
    "    step=0.0001,        # Step size\n",
    "    description='Tol:'\n",
    ")\n",
    "\n",
    "# Create an x bar\n",
    "x_slider = widgets.FloatSlider(\n",
    "    value=0,       # Initial value\n",
    "    min=0,         # Minimum value\n",
    "    max=1024,       # Maximum value\n",
    "    step=1,        # Step size\n",
    "    description='x:'\n",
    ")\n",
    "# Define a function to scale the slider value\n",
    "def scale_value(value):\n",
    "    return value / 10000.0\n",
    "\n",
    "\n",
    "# Create an y bar\n",
    "y_slider = widgets.FloatSlider(\n",
    "    value=0,       # Initial value\n",
    "    min=0,         # Minimum value\n",
    "    max=1024,       # Maximum value\n",
    "    step=1,        # Step size\n",
    "    description='y:'\n",
    ")\n",
    "\n",
    "# Create an z bar\n",
    "z_slider = widgets.FloatSlider(\n",
    "    value=0,       # Initial value\n",
    "    min=0,         # Minimum value\n",
    "    max=1024,       # Maximum value\n",
    "    step=1,        # Step size\n",
    "    description='z:'\n",
    ")\n",
    "\n",
    "# Create an timespte bar\n",
    "t_slider = widgets.FloatSlider(\n",
    "    value=0,       # Initial value\n",
    "    min=0,         # Minimum value\n",
    "    max=1024,       # Maximum value\n",
    "    step=1,        # Step size\n",
    "    description='t:'\n",
    ")\n",
    "\n",
    "# Display the slider\n",
    "display(tol_slider)\n",
    "display(t_slider)\n",
    "display(x_slider)\n",
    "display(y_slider)\n",
    "display(z_slider)\n"
   ]
  },
  {
   "cell_type": "code",
   "execution_count": null,
   "metadata": {},
   "outputs": [],
   "source": []
  }
 ],
 "metadata": {
  "kernelspec": {
   "display_name": "Python 3",
   "language": "python",
   "name": "python3"
  },
  "language_info": {
   "codemirror_mode": {
    "name": "ipython",
    "version": 3
   },
   "file_extension": ".py",
   "mimetype": "text/x-python",
   "name": "python",
   "nbconvert_exporter": "python",
   "pygments_lexer": "ipython3",
   "version": "3.10.12"
  },
  "orig_nbformat": 4
 },
 "nbformat": 4,
 "nbformat_minor": 2
}
