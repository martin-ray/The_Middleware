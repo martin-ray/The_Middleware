{
 "cells": [
  {
   "cell_type": "code",
   "execution_count": 21,
   "metadata": {},
   "outputs": [
    {
     "data": {
      "application/vnd.jupyter.widget-view+json": {
       "model_id": "c7c5554a44d9497fa402f7c30265a0d9",
       "version_major": 2,
       "version_minor": 0
      },
      "text/plain": [
       "FloatRangeSlider(value=(0.0, 512.0), continuous_update=False, description='x Range', max=1023.0, step=1.0)"
      ]
     },
     "metadata": {},
     "output_type": "display_data"
    },
    {
     "data": {
      "application/vnd.jupyter.widget-view+json": {
       "model_id": "fe67839ed22d434d931ac931146ad1b7",
       "version_major": 2,
       "version_minor": 0
      },
      "text/plain": [
       "FloatRangeSlider(value=(0.0, 512.0), continuous_update=False, description='y Range', max=1023.0, step=1.0)"
      ]
     },
     "metadata": {},
     "output_type": "display_data"
    },
    {
     "data": {
      "application/vnd.jupyter.widget-view+json": {
       "model_id": "c8e2263fd13042c7be0714a99bd5d12b",
       "version_major": 2,
       "version_minor": 0
      },
      "text/plain": [
       "FloatRangeSlider(value=(0.0, 512.0), continuous_update=False, description='z Range', max=1023.0, step=1.0)"
      ]
     },
     "metadata": {},
     "output_type": "display_data"
    },
    {
     "data": {
      "application/vnd.jupyter.widget-view+json": {
       "model_id": "06ec2ae2e688461597d8987361e20556",
       "version_major": 2,
       "version_minor": 0
      },
      "text/plain": [
       "RadioButtons(description='Axis to slide along :', options=('x', 'y', 'z'), value='x')"
      ]
     },
     "metadata": {},
     "output_type": "display_data"
    },
    {
     "data": {
      "application/vnd.jupyter.widget-view+json": {
       "model_id": "fdb8889bb43d489d87d09746481af678",
       "version_major": 2,
       "version_minor": 0
      },
      "text/plain": [
       "FloatSlider(value=0.0, description='Along with xyz axis:', max=1023.0, step=1.0)"
      ]
     },
     "metadata": {},
     "output_type": "display_data"
    },
    {
     "data": {
      "application/vnd.jupyter.widget-view+json": {
       "model_id": "95f85507b91b4b829bc33278fd0c8cb5",
       "version_major": 2,
       "version_minor": 0
      },
      "text/plain": [
       "Output()"
      ]
     },
     "metadata": {},
     "output_type": "display_data"
    }
   ],
   "source": [
    "import ipywidgets as widgets\n",
    "from IPython.display import display\n",
    "\n",
    "# Create range sliders\n",
    "x_range = widgets.FloatRangeSlider(\n",
    "    value=[0, 512],\n",
    "    min=0,\n",
    "    max=1023,\n",
    "    step=1,\n",
    "    description='x Range',\n",
    "    continuous_update=False,\n",
    "    orientation='horizontal',\n",
    "    readout=True,\n",
    ")\n",
    "\n",
    "# Create buttons to increment and decrement the slider values\n",
    "x_increment_button = widgets.Button(description='Increment')\n",
    "x_decrement_button = widgets.Button(description='Decrement')\n",
    "\n",
    "# Define functions to increment and decrement the slider values\n",
    "def increment_x_range(b):\n",
    "    current_values = x_range.value\n",
    "    step = x_range.step\n",
    "    new_values = [current_values[0] + step, current_values[1] + step]\n",
    "    if new_values[1] <= x_range.max:\n",
    "        x_range.value = new_values\n",
    "\n",
    "def decrement_x_range(b):\n",
    "    current_values = x_range.value\n",
    "    step = x_range.step\n",
    "    new_values = [current_values[0] - step, current_values[1] - step]\n",
    "    if new_values[0] >= x_range.min:\n",
    "        x_range.value = new_values\n",
    "\n",
    "y_range = widgets.FloatRangeSlider(\n",
    "    value=[0, 512],\n",
    "    min=0,\n",
    "    max=1023,\n",
    "    step=1,\n",
    "    description='y Range',\n",
    "    continuous_update=False,\n",
    "    orientation='horizontal',\n",
    "    readout=True,\n",
    ")\n",
    "\n",
    "z_range = widgets.FloatRangeSlider(\n",
    "    value=[0, 512],\n",
    "    min=0,\n",
    "    max=1023,\n",
    "    step=1,\n",
    "    description='z Range',\n",
    "    continuous_update=False,\n",
    "    orientation='horizontal',\n",
    "    readout=True,\n",
    ")\n",
    "\n",
    "xyz_buttons = widgets.RadioButtons(\n",
    "    options=['x','y','z'],\n",
    "#     value='pineapple',\n",
    "    description='Axis to slide along :',\n",
    "    disabled=False\n",
    ")\n",
    "\n",
    "xyz_axis = widgets.FloatSlider(\n",
    "    value=0,       # Initial value\n",
    "    min=0,         # Minimum value\n",
    "    max=1023,       # Maximum value\n",
    "    step=1,        # Step size\n",
    "    description='axis val:'    \n",
    ")\n",
    "\n",
    "# Create an output widget to display the observed values\n",
    "observed_output = widgets.Output()\n",
    "\n",
    "# Define the observer function to observe changes in the range sliders\n",
    "def observe_ranges(change):\n",
    "    with observed_output:\n",
    "        observed_output.clear_output()\n",
    "        x_val, y_val, z_val = x_range.value, y_range.value, z_range.value\n",
    "        axis = xyz_buttons.value\n",
    "        axis_val = xyz_axis.value\n",
    "        print(\"x Range:\", x_val)\n",
    "        print(\"y Range:\", y_val)\n",
    "        print(\"z Range:\", z_val)\n",
    "        print(\"Sliced on {} = {}\".format(axis,axis_val))\n",
    "\n",
    "\n",
    "\n",
    "# Observe changes in the range sliders and call the observer function\n",
    "x_range.observe(observe_ranges)\n",
    "y_range.observe(observe_ranges)\n",
    "z_range.observe(observe_ranges)\n",
    "xyz_buttons.observe(observe_ranges)\n",
    "xyz_axis.observe(observe_ranges)\n",
    "\n",
    "# Display the range sliders and the output widget\n",
    "display(x_range)\n",
    "display(y_range)\n",
    "display(z_range)\n",
    "display(xyz_buttons)\n",
    "display(xyz_axis)\n",
    "display(observed_output)\n"
   ]
  },
  {
   "cell_type": "code",
   "execution_count": null,
   "metadata": {},
   "outputs": [],
   "source": []
  }
 ],
 "metadata": {
  "kernelspec": {
   "display_name": "Python 3",
   "language": "python",
   "name": "python3"
  },
  "language_info": {
   "codemirror_mode": {
    "name": "ipython",
    "version": 3
   },
   "file_extension": ".py",
   "mimetype": "text/x-python",
   "name": "python",
   "nbconvert_exporter": "python",
   "pygments_lexer": "ipython3",
   "version": "3.10.12"
  },
  "orig_nbformat": 4
 },
 "nbformat": 4,
 "nbformat_minor": 2
}
