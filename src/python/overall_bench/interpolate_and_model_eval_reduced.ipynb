{
 "cells": [
  {
   "cell_type": "code",
   "execution_count": 1,
   "id": "878488f9",
   "metadata": {},
   "outputs": [],
   "source": [
    "import pandas as pd\n",
    "import numpy as np\n",
    "import matplotlib.pyplot as plt\n",
    "import seaborn as sns\n",
    "import sklearn as sl"
   ]
  },
  {
   "cell_type": "code",
   "execution_count": 3,
   "id": "07834b37",
   "metadata": {},
   "outputs": [],
   "source": [
    "df = pd.read_csv('./benchmarks/bench_20230920_112700_step=0.txt')"
   ]
  },
  {
   "cell_type": "code",
   "execution_count": 4,
   "id": "463483d5",
   "metadata": {},
   "outputs": [
    {
     "data": {
      "text/html": [
       "<div>\n",
       "<style scoped>\n",
       "    .dataframe tbody tr th:only-of-type {\n",
       "        vertical-align: middle;\n",
       "    }\n",
       "\n",
       "    .dataframe tbody tr th {\n",
       "        vertical-align: top;\n",
       "    }\n",
       "\n",
       "    .dataframe thead th {\n",
       "        text-align: right;\n",
       "    }\n",
       "</style>\n",
       "<table border=\"1\" class=\"dataframe\">\n",
       "  <thead>\n",
       "    <tr style=\"text-align: right;\">\n",
       "      <th></th>\n",
       "      <th>tol</th>\n",
       "      <th>OriginalSizeInByte</th>\n",
       "      <th>CompressedSizeInByte</th>\n",
       "      <th>CompRatio</th>\n",
       "      <th>avg_load_time</th>\n",
       "      <th>std_dev_load_time</th>\n",
       "      <th>load_throughput</th>\n",
       "      <th>avg_comp_time</th>\n",
       "      <th>std_dev_comp_time</th>\n",
       "      <th>avg_decomp_time</th>\n",
       "      <th>std_dev_decomp_time</th>\n",
       "      <th>devName</th>\n",
       "      <th>comp_bw</th>\n",
       "      <th>decomp_bw</th>\n",
       "      <th>OriginalMB</th>\n",
       "      <th>CompressedMB</th>\n",
       "    </tr>\n",
       "  </thead>\n",
       "  <tbody>\n",
       "    <tr>\n",
       "      <th>0</th>\n",
       "      <td>0.00001</td>\n",
       "      <td>1048576</td>\n",
       "      <td>1092823</td>\n",
       "      <td>0.959511</td>\n",
       "      <td>0.009225</td>\n",
       "      <td>0.0</td>\n",
       "      <td>1.136710e+08</td>\n",
       "      <td>0.047117</td>\n",
       "      <td>0.005417</td>\n",
       "      <td>0.076628</td>\n",
       "      <td>0.003130</td>\n",
       "      <td>gpu</td>\n",
       "      <td>21.223621</td>\n",
       "      <td>13.050052</td>\n",
       "      <td>1.0</td>\n",
       "      <td>1.042197</td>\n",
       "    </tr>\n",
       "    <tr>\n",
       "      <th>1</th>\n",
       "      <td>0.00001</td>\n",
       "      <td>2097152</td>\n",
       "      <td>1995871</td>\n",
       "      <td>1.050745</td>\n",
       "      <td>0.009337</td>\n",
       "      <td>0.0</td>\n",
       "      <td>2.245964e+08</td>\n",
       "      <td>0.046323</td>\n",
       "      <td>0.002316</td>\n",
       "      <td>0.066943</td>\n",
       "      <td>0.002487</td>\n",
       "      <td>gpu</td>\n",
       "      <td>43.174669</td>\n",
       "      <td>29.876194</td>\n",
       "      <td>2.0</td>\n",
       "      <td>1.903411</td>\n",
       "    </tr>\n",
       "    <tr>\n",
       "      <th>2</th>\n",
       "      <td>0.00001</td>\n",
       "      <td>4194304</td>\n",
       "      <td>2949559</td>\n",
       "      <td>1.422011</td>\n",
       "      <td>0.016567</td>\n",
       "      <td>0.0</td>\n",
       "      <td>2.531687e+08</td>\n",
       "      <td>0.048119</td>\n",
       "      <td>0.002807</td>\n",
       "      <td>0.069146</td>\n",
       "      <td>0.001938</td>\n",
       "      <td>gpu</td>\n",
       "      <td>83.127678</td>\n",
       "      <td>57.848679</td>\n",
       "      <td>4.0</td>\n",
       "      <td>2.812919</td>\n",
       "    </tr>\n",
       "    <tr>\n",
       "      <th>3</th>\n",
       "      <td>0.00001</td>\n",
       "      <td>8388608</td>\n",
       "      <td>4882711</td>\n",
       "      <td>1.718023</td>\n",
       "      <td>0.022575</td>\n",
       "      <td>0.0</td>\n",
       "      <td>3.715900e+08</td>\n",
       "      <td>0.060730</td>\n",
       "      <td>0.001398</td>\n",
       "      <td>0.078365</td>\n",
       "      <td>0.003156</td>\n",
       "      <td>gpu</td>\n",
       "      <td>131.729964</td>\n",
       "      <td>102.086070</td>\n",
       "      <td>8.0</td>\n",
       "      <td>4.656516</td>\n",
       "    </tr>\n",
       "    <tr>\n",
       "      <th>4</th>\n",
       "      <td>0.00001</td>\n",
       "      <td>16777216</td>\n",
       "      <td>9677275</td>\n",
       "      <td>1.733672</td>\n",
       "      <td>0.036947</td>\n",
       "      <td>0.0</td>\n",
       "      <td>4.540886e+08</td>\n",
       "      <td>0.088085</td>\n",
       "      <td>0.003117</td>\n",
       "      <td>0.088449</td>\n",
       "      <td>0.003744</td>\n",
       "      <td>gpu</td>\n",
       "      <td>181.642863</td>\n",
       "      <td>180.895365</td>\n",
       "      <td>16.0</td>\n",
       "      <td>9.228969</td>\n",
       "    </tr>\n",
       "    <tr>\n",
       "      <th>...</th>\n",
       "      <td>...</td>\n",
       "      <td>...</td>\n",
       "      <td>...</td>\n",
       "      <td>...</td>\n",
       "      <td>...</td>\n",
       "      <td>...</td>\n",
       "      <td>...</td>\n",
       "      <td>...</td>\n",
       "      <td>...</td>\n",
       "      <td>...</td>\n",
       "      <td>...</td>\n",
       "      <td>...</td>\n",
       "      <td>...</td>\n",
       "      <td>...</td>\n",
       "      <td>...</td>\n",
       "      <td>...</td>\n",
       "    </tr>\n",
       "    <tr>\n",
       "      <th>173</th>\n",
       "      <td>0.00001</td>\n",
       "      <td>16777216</td>\n",
       "      <td>9677275</td>\n",
       "      <td>1.733672</td>\n",
       "      <td>0.037246</td>\n",
       "      <td>0.0</td>\n",
       "      <td>4.504378e+08</td>\n",
       "      <td>4.002000</td>\n",
       "      <td>0.042555</td>\n",
       "      <td>1.693106</td>\n",
       "      <td>0.023894</td>\n",
       "      <td>single</td>\n",
       "      <td>3.998001</td>\n",
       "      <td>9.450088</td>\n",
       "      <td>16.0</td>\n",
       "      <td>9.228969</td>\n",
       "    </tr>\n",
       "    <tr>\n",
       "      <th>174</th>\n",
       "      <td>0.00001</td>\n",
       "      <td>33554432</td>\n",
       "      <td>19421203</td>\n",
       "      <td>1.727722</td>\n",
       "      <td>0.056948</td>\n",
       "      <td>0.0</td>\n",
       "      <td>5.892074e+08</td>\n",
       "      <td>5.377069</td>\n",
       "      <td>0.029517</td>\n",
       "      <td>3.110681</td>\n",
       "      <td>0.023546</td>\n",
       "      <td>single</td>\n",
       "      <td>5.951197</td>\n",
       "      <td>10.287136</td>\n",
       "      <td>32.0</td>\n",
       "      <td>18.521502</td>\n",
       "    </tr>\n",
       "    <tr>\n",
       "      <th>175</th>\n",
       "      <td>0.00001</td>\n",
       "      <td>67108864</td>\n",
       "      <td>37424787</td>\n",
       "      <td>1.793166</td>\n",
       "      <td>0.118898</td>\n",
       "      <td>0.0</td>\n",
       "      <td>5.644242e+08</td>\n",
       "      <td>7.720936</td>\n",
       "      <td>0.022268</td>\n",
       "      <td>5.570670</td>\n",
       "      <td>0.008142</td>\n",
       "      <td>single</td>\n",
       "      <td>8.289151</td>\n",
       "      <td>11.488744</td>\n",
       "      <td>64.0</td>\n",
       "      <td>35.691058</td>\n",
       "    </tr>\n",
       "    <tr>\n",
       "      <th>176</th>\n",
       "      <td>0.00001</td>\n",
       "      <td>134217728</td>\n",
       "      <td>71986219</td>\n",
       "      <td>1.864492</td>\n",
       "      <td>0.216067</td>\n",
       "      <td>0.0</td>\n",
       "      <td>6.211848e+08</td>\n",
       "      <td>13.554242</td>\n",
       "      <td>0.063474</td>\n",
       "      <td>12.359061</td>\n",
       "      <td>0.022764</td>\n",
       "      <td>single</td>\n",
       "      <td>9.443538</td>\n",
       "      <td>10.356774</td>\n",
       "      <td>128.0</td>\n",
       "      <td>68.651408</td>\n",
       "    </tr>\n",
       "    <tr>\n",
       "      <th>177</th>\n",
       "      <td>0.00001</td>\n",
       "      <td>268435456</td>\n",
       "      <td>137331099</td>\n",
       "      <td>1.954659</td>\n",
       "      <td>0.367025</td>\n",
       "      <td>0.0</td>\n",
       "      <td>7.313821e+08</td>\n",
       "      <td>23.760710</td>\n",
       "      <td>0.118321</td>\n",
       "      <td>24.834704</td>\n",
       "      <td>0.120428</td>\n",
       "      <td>single</td>\n",
       "      <td>10.774089</td>\n",
       "      <td>10.308156</td>\n",
       "      <td>256.0</td>\n",
       "      <td>130.969142</td>\n",
       "    </tr>\n",
       "  </tbody>\n",
       "</table>\n",
       "<p>178 rows × 16 columns</p>\n",
       "</div>"
      ],
      "text/plain": [
       "         tol  OriginalSizeInByte  CompressedSizeInByte  CompRatio  \\\n",
       "0    0.00001             1048576               1092823   0.959511   \n",
       "1    0.00001             2097152               1995871   1.050745   \n",
       "2    0.00001             4194304               2949559   1.422011   \n",
       "3    0.00001             8388608               4882711   1.718023   \n",
       "4    0.00001            16777216               9677275   1.733672   \n",
       "..       ...                 ...                   ...        ...   \n",
       "173  0.00001            16777216               9677275   1.733672   \n",
       "174  0.00001            33554432              19421203   1.727722   \n",
       "175  0.00001            67108864              37424787   1.793166   \n",
       "176  0.00001           134217728              71986219   1.864492   \n",
       "177  0.00001           268435456             137331099   1.954659   \n",
       "\n",
       "     avg_load_time  std_dev_load_time  load_throughput  avg_comp_time  \\\n",
       "0         0.009225                0.0     1.136710e+08       0.047117   \n",
       "1         0.009337                0.0     2.245964e+08       0.046323   \n",
       "2         0.016567                0.0     2.531687e+08       0.048119   \n",
       "3         0.022575                0.0     3.715900e+08       0.060730   \n",
       "4         0.036947                0.0     4.540886e+08       0.088085   \n",
       "..             ...                ...              ...            ...   \n",
       "173       0.037246                0.0     4.504378e+08       4.002000   \n",
       "174       0.056948                0.0     5.892074e+08       5.377069   \n",
       "175       0.118898                0.0     5.644242e+08       7.720936   \n",
       "176       0.216067                0.0     6.211848e+08      13.554242   \n",
       "177       0.367025                0.0     7.313821e+08      23.760710   \n",
       "\n",
       "     std_dev_comp_time  avg_decomp_time  std_dev_decomp_time devName  \\\n",
       "0             0.005417         0.076628             0.003130     gpu   \n",
       "1             0.002316         0.066943             0.002487     gpu   \n",
       "2             0.002807         0.069146             0.001938     gpu   \n",
       "3             0.001398         0.078365             0.003156     gpu   \n",
       "4             0.003117         0.088449             0.003744     gpu   \n",
       "..                 ...              ...                  ...     ...   \n",
       "173           0.042555         1.693106             0.023894  single   \n",
       "174           0.029517         3.110681             0.023546  single   \n",
       "175           0.022268         5.570670             0.008142  single   \n",
       "176           0.063474        12.359061             0.022764  single   \n",
       "177           0.118321        24.834704             0.120428  single   \n",
       "\n",
       "        comp_bw   decomp_bw  OriginalMB  CompressedMB  \n",
       "0     21.223621   13.050052         1.0      1.042197  \n",
       "1     43.174669   29.876194         2.0      1.903411  \n",
       "2     83.127678   57.848679         4.0      2.812919  \n",
       "3    131.729964  102.086070         8.0      4.656516  \n",
       "4    181.642863  180.895365        16.0      9.228969  \n",
       "..          ...         ...         ...           ...  \n",
       "173    3.998001    9.450088        16.0      9.228969  \n",
       "174    5.951197   10.287136        32.0     18.521502  \n",
       "175    8.289151   11.488744        64.0     35.691058  \n",
       "176    9.443538   10.356774       128.0     68.651408  \n",
       "177   10.774089   10.308156       256.0    130.969142  \n",
       "\n",
       "[178 rows x 16 columns]"
      ]
     },
     "execution_count": 4,
     "metadata": {},
     "output_type": "execute_result"
    }
   ],
   "source": [
    "df[\"comp_bw\"] = df[\"comp_throughput\"]/1024/1024\n",
    "df[\"decomp_bw\"] = df[\"decomp_throughput\"]/1024/1024\n",
    "df[\"OriginalMB\"] = df[\"OriginalSizeInByte\"]/1024/1024\n",
    "df[\"CompressedMB\"] = df[\"CompressedSizeInByte\"]/1024/1024\n",
    "df.drop([\"decomp_throughput\",\"comp_throughput\"],axis=1)"
   ]
  },
  {
   "cell_type": "code",
   "execution_count": 13,
   "metadata": {},
   "outputs": [
    {
     "data": {
      "text/html": [
       "<div>\n",
       "<style scoped>\n",
       "    .dataframe tbody tr th:only-of-type {\n",
       "        vertical-align: middle;\n",
       "    }\n",
       "\n",
       "    .dataframe tbody tr th {\n",
       "        vertical-align: top;\n",
       "    }\n",
       "\n",
       "    .dataframe thead th {\n",
       "        text-align: right;\n",
       "    }\n",
       "</style>\n",
       "<table border=\"1\" class=\"dataframe\">\n",
       "  <thead>\n",
       "    <tr style=\"text-align: right;\">\n",
       "      <th></th>\n",
       "      <th>tol</th>\n",
       "      <th>OriginalSizeInByte</th>\n",
       "      <th>CompressedSizeInByte</th>\n",
       "      <th>CompRatio</th>\n",
       "      <th>avg_load_time</th>\n",
       "      <th>std_dev_load_time</th>\n",
       "      <th>load_throughput</th>\n",
       "      <th>avg_comp_time</th>\n",
       "      <th>std_dev_comp_time</th>\n",
       "      <th>comp_throughput</th>\n",
       "      <th>avg_decomp_time</th>\n",
       "      <th>std_dev_decomp_time</th>\n",
       "      <th>decomp_throughput</th>\n",
       "      <th>devName</th>\n",
       "      <th>comp_bw</th>\n",
       "      <th>decomp_bw</th>\n",
       "      <th>OriginalMB</th>\n",
       "      <th>CompressedMB</th>\n",
       "    </tr>\n",
       "  </thead>\n",
       "  <tbody>\n",
       "    <tr>\n",
       "      <th>142</th>\n",
       "      <td>0.1</td>\n",
       "      <td>4294967296</td>\n",
       "      <td>165793405</td>\n",
       "      <td>25.905538</td>\n",
       "      <td>3.833126</td>\n",
       "      <td>0.0</td>\n",
       "      <td>1.120487e+09</td>\n",
       "      <td>11.735517</td>\n",
       "      <td>0.366181</td>\n",
       "      <td>3.659802e+08</td>\n",
       "      <td>6.037126</td>\n",
       "      <td>0.137538</td>\n",
       "      <td>7.114259e+08</td>\n",
       "      <td>gpu</td>\n",
       "      <td>349.025945</td>\n",
       "      <td>678.468567</td>\n",
       "      <td>4096.0</td>\n",
       "      <td>158.112912</td>\n",
       "    </tr>\n",
       "  </tbody>\n",
       "</table>\n",
       "</div>"
      ],
      "text/plain": [
       "     tol  OriginalSizeInByte  CompressedSizeInByte  CompRatio  avg_load_time  \\\n",
       "142  0.1          4294967296             165793405  25.905538       3.833126   \n",
       "\n",
       "     std_dev_load_time  load_throughput  avg_comp_time  std_dev_comp_time  \\\n",
       "142                0.0     1.120487e+09      11.735517           0.366181   \n",
       "\n",
       "     comp_throughput  avg_decomp_time  std_dev_decomp_time  decomp_throughput  \\\n",
       "142     3.659802e+08         6.037126             0.137538       7.114259e+08   \n",
       "\n",
       "    devName     comp_bw   decomp_bw  OriginalMB  CompressedMB  \n",
       "142     gpu  349.025945  678.468567      4096.0    158.112912  "
      ]
     },
     "execution_count": 13,
     "metadata": {},
     "output_type": "execute_result"
    }
   ],
   "source": [
    "data = df[(df[\"OriginalMB\"] == 1024 * 4) & (df[\"tol\"] == 0.1)]\n",
    "data"
   ]
  },
  {
   "cell_type": "code",
   "execution_count": 16,
   "metadata": {},
   "outputs": [
    {
     "data": {
      "text/plain": [
       "117.625"
      ]
     },
     "execution_count": 16,
     "metadata": {},
     "output_type": "execute_result"
    }
   ],
   "source": [
    "data[\"comp_throughput\"]/1024/1024\n",
    "941/8"
   ]
  },
  {
   "cell_type": "code",
   "execution_count": 4,
   "id": "293efd50",
   "metadata": {},
   "outputs": [],
   "source": [
    "df_gpu = df[df[\"devName\"]==\"gpu\"]"
   ]
  },
  {
   "cell_type": "code",
   "execution_count": 5,
   "id": "a68ac71d",
   "metadata": {},
   "outputs": [
    {
     "data": {
      "image/png": "[encoded data removed]",
      "text/plain": [
       "<Figure size 640x480 with 1 Axes>"
      ]
     },
     "metadata": {},
     "output_type": "display_data"
    }
   ],
   "source": [
    "# Group the data by 'tol'\n",
    "grouped_data = df_gpu.groupby('tol')\n",
    "CompRatio = grouped_data.agg({\"CompRatio\":\"mean\"})\n",
    "plt.plot(CompRatio.index,CompRatio[\"CompRatio\"])\n",
    "plt.xlabel(\"tol\")\n",
    "plt.ylabel(\"CompRatio\")\n",
    "plt.show()"
   ]
  },
  {
   "cell_type": "code",
   "execution_count": 6,
   "id": "e3ef9506",
   "metadata": {},
   "outputs": [
    {
     "name": "stdout",
     "output_type": "stream",
     "text": [
      "1.673870109822227\n"
     ]
    }
   ],
   "source": [
    "def comp_ratio(tol):\n",
    "    return np.interp(tol,CompRatio.index,CompRatio[\"CompRatio\"])\n",
    "\n",
    "test = comp_ratio(0.00001)\n",
    "print(test)"
   ]
  },
  {
   "cell_type": "code",
   "execution_count": 7,
   "id": "94f0d1fd",
   "metadata": {},
   "outputs": [
    {
     "data": {
      "text/plain": [
       "Text(0, 0.5, 'comp_bw[MB/sec]')"
      ]
     },
     "execution_count": 7,
     "metadata": {},
     "output_type": "execute_result"
    },
    {
     "data": {
      "image/png": "[encoded data removed]",
      "text/plain": [
       "<Figure size 640x480 with 1 Axes>"
      ]
     },
     "metadata": {},
     "output_type": "display_data"
    }
   ],
   "source": [
    "# こっちもinterpolarationをした方がいい気がしてきた\n",
    "grouped_data = df_gpu.groupby(\"OriginalMB\")\n",
    "comp_mean = grouped_data.agg({'comp_bw':'mean'})\n",
    "observed_comp_bw = comp_mean\n",
    "observed_Ori_mb = comp_mean.index\n",
    "plt.plot(observed_Ori_mb,observed_comp_bw)\n",
    "plt.xlabel(\"originalMB\")\n",
    "plt.ylabel(\"comp_bw[MB/sec]\")"
   ]
  },
  {
   "cell_type": "code",
   "execution_count": 8,
   "id": "4759f5f9",
   "metadata": {},
   "outputs": [
    {
     "name": "stdout",
     "output_type": "stream",
     "text": [
      "302.7018673026983\n"
     ]
    }
   ],
   "source": [
    "def gpu_comp_bw(orisize):\n",
    "    return np.interp(orisize, comp_mean.index, comp_mean[\"comp_bw\"])\n",
    "\n",
    "test = gpu_comp_bw(100)\n",
    "print(test)"
   ]
  },
  {
   "cell_type": "code",
   "execution_count": 9,
   "id": "1daea18d",
   "metadata": {},
   "outputs": [
    {
     "data": {
      "text/plain": [
       "[<matplotlib.lines.Line2D at 0x7f9b7acfc5e0>]"
      ]
     },
     "execution_count": 9,
     "metadata": {},
     "output_type": "execute_result"
    },
    {
     "data": {
      "image/png": "[encoded data removed]",
      "text/plain": [
       "<Figure size 640x480 with 1 Axes>"
      ]
     },
     "metadata": {},
     "output_type": "display_data"
    }
   ],
   "source": [
    "grouped_data = df_gpu.groupby(\"OriginalMB\")\n",
    "decomp_mean = grouped_data.agg({'decomp_bw':'mean'})\n",
    "plt.plot(decomp_mean.index,decomp_mean[\"decomp_bw\"])"
   ]
  },
  {
   "cell_type": "code",
   "execution_count": 10,
   "id": "2e087bc8",
   "metadata": {},
   "outputs": [
    {
     "name": "stdout",
     "output_type": "stream",
     "text": [
      "619.6153890454634\n"
     ]
    }
   ],
   "source": [
    "def gpu_decomp_bw(orisize):\n",
    "    return np.interp(orisize,decomp_mean.index,decomp_mean[\"decomp_bw\"])\n",
    "test = gpu_decomp_bw(1000)\n",
    "print(test)"
   ]
  },
  {
   "cell_type": "code",
   "execution_count": 19,
   "id": "cad00ef8",
   "metadata": {},
   "outputs": [],
   "source": [
    "nvmeBw = 2000 # MB\n",
    "NetBw = 125 # MB\n",
    "\n",
    "def MGARD_Latency(tol,OriSize):\n",
    "    d = {}\n",
    "    d[\"total_time\"] = OriSize/nvmeBw + OriSize/gpu_comp_bw(OriSize) + OriSize/comp_ratio(tol)/NetBw + OriSize/gpu_decomp_bw(OriSize)\n",
    "    d[\"load_time\"] =  OriSize/nvmeBw\n",
    "    d[\"transfer_time\"] = OriSize/comp_ratio(tol)/NetBw\n",
    "    d[\"comp_time\"] =  OriSize/gpu_comp_bw(OriSize)\n",
    "    d[\"decomp_time\"] = OriSize/gpu_decomp_bw(OriSize)\n",
    "    return d"
   ]
  },
  {
   "cell_type": "code",
   "execution_count": 20,
   "id": "605b44d0",
   "metadata": {},
   "outputs": [
    {
     "name": "stdout",
     "output_type": "stream",
     "text": [
      "         tol  OriSize  total_latency  load_time  transfer_time  comp_time  \\\n",
      "0    0.00001      100       1.095157       0.05       0.477934   0.330358   \n",
      "1    0.00001      200       2.049806       0.10       0.955869   0.596031   \n",
      "2    0.00001      300       2.985212       0.15       1.433803   0.852497   \n",
      "3    0.00001      400       3.936194       0.20       1.911737   1.119822   \n",
      "4    0.00001      500       4.868190       0.25       2.389672   1.379341   \n",
      "..       ...      ...            ...        ...            ...        ...   \n",
      "502  1.00000     3500      18.015408       1.75       1.045985   9.848907   \n",
      "503  1.00000     3600      18.558453       1.80       1.075870  10.172696   \n",
      "504  1.00000     3700      19.103510       1.85       1.105755  10.499205   \n",
      "505  1.00000     3800      19.650620       1.90       1.135641  10.828471   \n",
      "506  1.00000     3900      20.199824       1.95       1.165526  11.160527   \n",
      "\n",
      "     decomp_time  \n",
      "0       0.236864  \n",
      "1       0.397906  \n",
      "2       0.548912  \n",
      "3       0.704634  \n",
      "4       0.849178  \n",
      "..           ...  \n",
      "502     5.370516  \n",
      "503     5.509887  \n",
      "504     5.648549  \n",
      "505     5.786509  \n",
      "506     5.923770  \n",
      "\n",
      "[507 rows x 7 columns]\n"
     ]
    }
   ],
   "source": [
    "import pandas as pd\n",
    "\n",
    "# Initialize an empty DataFrame\n",
    "Latency_df = pd.DataFrame(columns=['tol', 'OriSizeMB', 'l'])\n",
    "\n",
    "# Create a list to store dictionaries for each row\n",
    "data = []\n",
    "\n",
    "# reduced \n",
    "tols = [0.00001, 0.00005, 0.0001, 0.0005, 0.001, 0.005, 0.01, 0.02, 0.03, 0.05, 0.1, 0.5, 1]\n",
    "\n",
    "# Loop through the desired range of 'tol' and 'OriSize'\n",
    "for tol in tols:  # Adjust the range as needed\n",
    "    if tol == 0:\n",
    "        continue\n",
    "    for OriSize in range(0, 4000, 100):\n",
    "        if OriSize == 0:\n",
    "            continue\n",
    "        d = MGARD_Latency(tol, OriSize)  # Convert 'tol' to float\n",
    "        # Create a dictionary for the current row\n",
    "        row_dict = {'tol': tol, \n",
    "                    'OriSize': OriSize, \n",
    "                    'total_latency': d[\"total_time\"],\n",
    "                    'load_time' : d[\"load_time\"],\n",
    "                    'transfer_time' : d[\"transfer_time\"],\n",
    "                    'comp_time':d[\"comp_time\"],\n",
    "                    'decomp_time':d[\"decomp_time\"]\n",
    "                    }\n",
    "        # Append the dictionary to the list\n",
    "        data.append(row_dict)\n",
    "\n",
    "# Convert the list of dictionaries into a DataFrame\n",
    "Latency_df = pd.DataFrame(data)\n",
    "\n",
    "# Display the resulting DataFrame\n",
    "print(Latency_df)\n"
   ]
  },
  {
   "cell_type": "code",
   "execution_count": 21,
   "id": "a142f664",
   "metadata": {},
   "outputs": [],
   "source": [
    "Latency_df.to_csv(\"./Latency_0921_reduced.csv\",index=False)"
   ]
  },
  {
   "cell_type": "code",
   "execution_count": null,
   "id": "9eb3c389",
   "metadata": {},
   "outputs": [],
   "source": []
  }
 ],
 "metadata": {
  "kernelspec": {
   "display_name": "Python 3 (ipykernel)",
   "language": "python",
   "name": "python3"
  },
  "language_info": {
   "codemirror_mode": {
    "name": "ipython",
    "version": 3
   },
   "file_extension": ".py",
   "mimetype": "text/x-python",
   "name": "python",
   "nbconvert_exporter": "python",
   "pygments_lexer": "ipython3",
   "version": "3.10.12"
  }
 },
 "nbformat": 4,
 "nbformat_minor": 5
}
