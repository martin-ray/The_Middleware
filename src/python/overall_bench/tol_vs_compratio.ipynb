{
 "cells": [
  {
   "cell_type": "code",
   "execution_count": 1,
   "metadata": {},
   "outputs": [],
   "source": [
    "import h5py \n",
    "import numpy as np\n",
    "import _mgard as mgard\n",
    "import time\n",
    "\n",
    "from tqdm import tqdm"
   ]
  },
  {
   "cell_type": "code",
   "execution_count": 2,
   "metadata": {},
   "outputs": [],
   "source": [
    "import numpy as np\n",
    "\n",
    "def psnr(original_data, decompressed_data):\n",
    "    \"\"\"\n",
    "    Calculate Peak Signal-to-Noise Ratio (PSNR) between two 3D arrays with dynamic maximum value determination.\n",
    "\n",
    "    Args:\n",
    "        original_data (numpy.ndarray): The original data as a 3D numpy array (float).\n",
    "        decompressed_data (numpy.ndarray): The decompressed data as a 3D numpy array (float).\n",
    "\n",
    "    Returns:\n",
    "        float: The PSNR value.\n",
    "    \"\"\"\n",
    "    # Ensure the input arrays have the same shape\n",
    "    if original_data.shape != decompressed_data.shape:\n",
    "        raise ValueError(\"Input arrays must have the same shape\")\n",
    "\n",
    "    # Calculate the mean squared error (MSE) between the two arrays\n",
    "    mse = np.mean((original_data - decompressed_data) ** 2)\n",
    "\n",
    "    # Calculate the dynamic maximum possible value based on the maximum value in the input arrays\n",
    "    max_possible_value = np.max([np.max(original_data), np.max(decompressed_data)])\n",
    "\n",
    "    # Calculate the PSNR using the formula: PSNR = 20 * log10(max_possible_value / sqrt(MSE))\n",
    "    psnr_value = 20 * np.log10(max_possible_value / np.sqrt(mse))\n",
    "\n",
    "    return psnr_value\n"
   ]
  },
  {
   "cell_type": "code",
   "execution_count": 3,
   "metadata": {},
   "outputs": [],
   "source": [
    "\n",
    "class Slicer:\n",
    "\n",
    "    # default 引数\n",
    "    def __init__(self,filename=\"/scratch/aoyagir/step1_500_test.h5\") -> None:\n",
    "        self.filename = filename\n",
    "        self.file = h5py.File(filename, 'r')\n",
    "        self.dataset = self.file['data']\n",
    "        print(self.dataset.shape)\n",
    "\n",
    "    # Access specific elements in the concatenated array\n",
    "    def access_array_element(self,timestep, x, y, z):\n",
    "        element = self.dataset[timestep, x, y, z]\n",
    "        return element\n",
    "\n",
    "    # Access a subset of the concatenated array\n",
    "    def slice_multiple_step(self, file, timestep_start, timestep_end, x_start, x_end, y_start, y_end, z_start, z_end):\n",
    "        subset = self.dataset[timestep_start:timestep_end, x_start:x_end, y_start:y_end, z_start:z_end]\n",
    "        return subset\n",
    "    \n",
    "    # slice siingle step\n",
    "    def slice_single_step(self, timestep,  x_start, x_end, y_start, y_end, z_start, z_end):\n",
    "        subset = self.dataset[timestep,  x_start:x_end, y_start:y_end, z_start:z_end]\n",
    "        retsubset = np.squeeze(subset)\n",
    "        return retsubset\n",
    "\n",
    "    # slice sigle step by size\n",
    "    def get_xyz_offset_by_size(self, size):\n",
    "        # 100MB -> 「100/(sizeof(float))」個のデータ\n",
    "        sizeFloat = 4 # byte\n",
    "        return int((size/sizeFloat)**(1/3))\n",
    "\n"
   ]
  },
  {
   "cell_type": "code",
   "execution_count": 4,
   "metadata": {},
   "outputs": [
    {
     "name": "stdout",
     "output_type": "stream",
     "text": [
      "(257, 1024, 1024, 1024)\n"
     ]
    }
   ],
   "source": [
    "slicer = Slicer(\"/scratch/aoyagir/step1_256_test_0902.h5\")"
   ]
  },
  {
   "cell_type": "code",
   "execution_count": 5,
   "metadata": {},
   "outputs": [],
   "source": [
    "# create a file to write the results\n",
    "import csv\n",
    "from datetime import datetime\n",
    "\n",
    "# Get the current date and time\n",
    "current_time = datetime.now()\n",
    "\n",
    "# Format the current date and time as a string\n",
    "timestamp = current_time.strftime(\"%Y%m%d_%H%M%S\")\n",
    "\n",
    "# timestep to conduct the benchmark\n",
    "timestep = 128\n",
    "\n",
    "# Create the file name based on the timestamp\n",
    "csv_file = f'bench_{timestamp}_timestep_{timestep}_psrn_by_tol.txt'\n",
    "\n",
    "import csv\n",
    "\n",
    "header = ['tol', 'oriSize','compSize','psnr']\n",
    "\n",
    "with open(csv_file, \"w\", newline=\"\") as f:\n",
    "    writer = csv.writer(f)\n",
    "    writer.writerow(header)\n",
    "\n"
   ]
  },
  {
   "cell_type": "code",
   "execution_count": 6,
   "metadata": {},
   "outputs": [
    {
     "name": "stdout",
     "output_type": "stream",
     "text": [
      "1e-05\n",
      "[1e-05, 4294967296, 2766447413, 124.4773847052398]\n",
      "5e-05\n",
      "[5e-05, 4294967296, 1603978301, 110.49793216245654]\n",
      "0.0001\n",
      "[0.0001, 4294967296, 1342334629, 104.47754364940104]\n",
      "0.0005\n",
      "[0.0005, 4294967296, 914715461, 90.49814793327542]\n",
      "0.001\n",
      "[0.001, 4294967296, 765424741, 84.48348384904678]\n",
      "0.005\n",
      "[0.005, 4294967296, 452057581, 70.94916005969932]\n",
      "0.01\n",
      "[0.01, 4294967296, 332661157, 65.79997359253977]\n",
      "0.02\n",
      "[0.02, 4294967296, 250654469, 61.36111691813233]\n",
      "0.03\n",
      "[0.03, 4294967296, 217611885, 59.12882761758198]\n",
      "0.05\n",
      "[0.05, 4294967296, 188387525, 56.59077153773158]\n",
      "0.1\n",
      "[0.1, 4294967296, 164155469, 53.59503341229156]\n",
      "0.5\n",
      "[0.5, 4294967296, 141688309, 46.9418292993016]\n",
      "1\n",
      "[1, 4294967296, 138357557, 44.18206494653654]\n"
     ]
    }
   ],
   "source": [
    "# tol vs original size\n",
    "# Define the number of repetitions and initialize a list for results\n",
    "\n",
    "results = []\n",
    "tols = [0.00001, 0.00005, 0.0001, 0.0005, 0.001, 0.005, 0.01, 0.02, 0.03, 0.05, 0.1, 0.5, 1]\n",
    "\n",
    "configGPU = mgard.Config()\n",
    "configGPU.dev_type = mgard.DeviceType.CUDA\n",
    "\n",
    "# Wrap your outer loop with tqdm to create a progress bar\n",
    "\n",
    "for tol in tols: # 100 iteration\n",
    "    if tol == 0:\n",
    "        print(\"passed\")\n",
    "        continue\n",
    "    print(tol)\n",
    "\n",
    "    OriginalSize = 4 * 1024 * 1024 * 1024  # 4GiB in bytes\n",
    "\n",
    "    # get the offset size\n",
    "    offset = slicer.get_xyz_offset_by_size(OriginalSize)\n",
    "    original = slicer.slice_single_step(timestep, 0, offset, 0, offset, 0, offset)\n",
    "    compressed = mgard.compress(original, tol, 0, mgard.ErrorBoundType.REL, configGPU)\n",
    "    compressedSize = compressed.nbytes\n",
    "    decompressed = mgard.decompress(compressed, configGPU)\n",
    "    p = psnr(original,decompressed)\n",
    "    \n",
    "    row_data = [tol, OriginalSize,compressedSize, p]\n",
    "\n",
    "    # Write the data row\n",
    "    with open(csv_file, \"a\", newline=\"\") as f:\n",
    "        writer = csv.writer(f)\n",
    "        writer.writerow(row_data)\n",
    "\n",
    "    # Double the size\n",
    "    OriginalSize *= 2\n",
    "    print(row_data)\n",
    "\n",
    "# Convert the results list to a NumPy array for easier manipulation\n",
    "results_array = np.array(results)"
   ]
  },
  {
   "cell_type": "code",
   "execution_count": null,
   "metadata": {},
   "outputs": [],
   "source": []
  }
 ],
 "metadata": {
  "kernelspec": {
   "display_name": "Python 3",
   "language": "python",
   "name": "python3"
  },
  "language_info": {
   "codemirror_mode": {
    "name": "ipython",
    "version": 3
   },
   "file_extension": ".py",
   "mimetype": "text/x-python",
   "name": "python",
   "nbconvert_exporter": "python",
   "pygments_lexer": "ipython3",
   "version": "3.10.12"
  }
 },
 "nbformat": 4,
 "nbformat_minor": 2
}
