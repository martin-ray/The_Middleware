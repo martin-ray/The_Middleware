{
 "cells": [
  {
   "cell_type": "code",
   "execution_count": 15,
   "metadata": {},
   "outputs": [],
   "source": [
    "import os\n",
    "import sys\n",
    "import ctypes\n",
    "import math\n",
    "import numpy\n",
    "import numpy as np\n",
    "import h5py\n",
    "import tiledb"
   ]
  },
  {
   "cell_type": "code",
   "execution_count": 16,
   "metadata": {},
   "outputs": [],
   "source": [
    "# Total number of time steps\n",
    "# num_time_steps = 257\n",
    "num_time_steps = 4\n",
    "\n",
    "# Shape of the array for each time step\n",
    "array_shape = (1024, 1024, 1024)\n",
    "\n",
    "# Iterate over the .npy files and write to the HDF5 dataset\n",
    "for timestep in range(1,num_time_steps):\n",
    "    # Load the .npy file\n",
    "    file_path = f'/home2/aoyagir/isotropic1024coarse/pressure2_time_steps/t_{timestep:04}.npy'\n",
    "    if os.path.exists(file_path):\n",
    "        # print(\"iine\")\n",
    "        pass\n",
    "    else:\n",
    "        print(\"doesnt exists\")"
   ]
  },
  {
   "cell_type": "code",
   "execution_count": 12,
   "metadata": {},
   "outputs": [],
   "source": [
    "# Create a TileDB config\n",
    "config = tiledb.Config()\n",
    "\n",
    "# Set Minio-specific configuration options\n",
    " \n",
    "\n",
    "config[\"vfs.s3.scheme\"] = \"http\"\n",
    "config[\"vfs.s3.region\"] = \"\"\n",
    "config[\"vfs.s3.endpoint_override\"] = \"172.20.2.253:9000\"\n",
    "config[\"vfs.s3.use_virtual_addressing\"] = \"false\"\n",
    "config[\"vfs.s3.aws_access_key_id\"] = \"189XB7837GTE0Kt1lv6b\"\n",
    "config[\"vfs.s3.aws_secret_access_key\"] = \"aQ3nGhtwk8Qod24f201KAMzShU5Y5VUgVOQL0XG5\"\n",
    "\n",
    "# Create contex\n",
    "ctx = tiledb.Ctx(config)\n",
    "\n"
   ]
  },
  {
   "cell_type": "code",
   "execution_count": 20,
   "metadata": {},
   "outputs": [
    {
     "name": "stdout",
     "output_type": "stream",
     "text": [
      "array4\n"
     ]
    }
   ],
   "source": [
    "array_name = f\"array{num_time_steps}\"\n",
    "# array_name = f\"array_{num_time_steps}lz4\"\n",
    "# array_name = f\"array_{num_time_steps}zstd\"\n",
    "# array_name = f\"array_{num_time_steps}gzip\"\n",
    "\n",
    "\n",
    "# array_uri = f\"/home2/aoyagir/tiledb_data/{array_name}\"\n",
    "array_uri = f\"s3://{array_name}\"\n",
    "print(array_name)\n",
    "\n",
    "array_schema = tiledb.ArraySchema(\n",
    "    domain=tiledb.Domain(\n",
    "        tiledb.Dim(name=\"timestep\",domain=(0, num_time_steps - 1), tile=1, dtype=np.uint64),\n",
    "        tiledb.Dim(name=\"x\", domain=(0, 1023), tile=256, dtype=np.uint64),\n",
    "        tiledb.Dim(name=\"y\", domain=(0, 1023), tile=256, dtype=np.uint64),\n",
    "        tiledb.Dim(name=\"z\", domain=(0, 1023), tile=256, dtype=np.uint64),\n",
    "    ),\n",
    "    attrs=[tiledb.Attr(name=\"data\", dtype=np.float32)],\n",
    "    # filters=tiledb.FilterList([tiledb.LZ4Filter()]),  # Enable LZ4 compression\n",
    "    # filters=tiledb.FilterList([gzip_filter])\n",
    "    # filters=tiledb.FilterList([zstd_filter])\n",
    "    # filters=tiledb.FilterList([blosc_filter])\n",
    ")\n",
    "\n",
    "tiledb.Array.create(array_uri, array_schema,ctx=ctx)"
   ]
  },
  {
   "cell_type": "code",
   "execution_count": 21,
   "metadata": {},
   "outputs": [],
   "source": [
    "# Iterate over the .npy files and write to the TileDB dataset\n",
    "for timestep in range(1, num_time_steps):\n",
    "    file_path = f'/home2/aoyagir/isotropic1024coarse/pressure2_time_steps/t_{timestep:04}.npy'\n",
    "    if os.path.exists(file_path):\n",
    "        # Load the .npy file\n",
    "        data_3d = np.load(file_path).astype(np.float32)\n",
    "\n",
    "        # Open the TileDB array for writing\n",
    "        with tiledb.DenseArray(array_uri, mode=\"w\", ctx=ctx) as array:\n",
    "            # Define the coordinates for this timestep\n",
    "            coords = (timestep-1, slice(0, 1024), slice(0, 1024), slice(0, 1024))\n",
    "            # Write the 3D data to the TileDB array\n",
    "            array[coords] = data_3d\n",
    "        print(f\"timestep{timestep} is done\")\n",
    "    else:\n",
    "        print(f\"File doesn't exist for timestep {timestep}\")"
   ]
  },
  {
   "cell_type": "code",
   "execution_count": null,
   "metadata": {},
   "outputs": [],
   "source": []
  }
 ],
 "metadata": {
  "kernelspec": {
   "display_name": "Python 3",
   "language": "python",
   "name": "python3"
  },
  "language_info": {
   "codemirror_mode": {
    "name": "ipython",
    "version": 3
   },
   "file_extension": ".py",
   "mimetype": "text/x-python",
   "name": "python",
   "nbconvert_exporter": "python",
   "pygments_lexer": "ipython3",
   "version": "3.10.12"
  }
 },
 "nbformat": 4,
 "nbformat_minor": 2
}
