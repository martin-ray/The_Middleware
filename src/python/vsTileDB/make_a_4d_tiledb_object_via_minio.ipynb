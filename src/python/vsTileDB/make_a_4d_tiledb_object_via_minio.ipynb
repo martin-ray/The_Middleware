{
 "cells": [
  {
   "cell_type": "code",
   "execution_count": 15,
   "metadata": {},
   "outputs": [],
   "source": [
    "import os\n",
    "import sys\n",
    "import ctypes\n",
    "import math\n",
    "import numpy\n",
    "import numpy as np\n",
    "import h5py\n",
    "import tiledb"
   ]
  },
  {
   "cell_type": "code",
   "execution_count": 16,
   "metadata": {},
   "outputs": [],
   "source": [
    "# Total number of time steps\n",
    "# num_time_steps = 257\n",
    "num_time_steps = 4\n",
    "\n",
    "# Shape of the array for each time step\n",
    "array_shape = (1024, 1024, 1024)\n",
    "\n",
    "# Iterate over the .npy files and write to the HDF5 dataset\n",
    "for timestep in range(1,num_time_steps):\n",
    "    # Load the .npy file\n",
    "    file_path = f'/home2/aoyagir/isotropic1024coarse/pressure2_time_steps/t_{timestep:04}.npy'\n",
    "    if os.path.exists(file_path):\n",
    "        # print(\"iine\")\n",
    "        pass\n",
    "    else:\n",
    "        print(\"doesnt exists\")"
   ]
  },
  {
   "cell_type": "code",
   "execution_count": 12,
   "metadata": {},
   "outputs": [],
   "source": [
    "# Create a TileDB config\n",
    "config = tiledb.Config()\n",
    "\n",
    "# Set Minio-specific configuration options\n",
    " \n",
    "\n",
    "config[\"vfs.s3.scheme\"] = \"http\"\n",
    "config[\"vfs.s3.region\"] = \"\"\n",
    "config[\"vfs.s3.endpoint_override\"] = \"172.20.2.253:9000\"\n",
    "config[\"vfs.s3.use_virtual_addressing\"] = \"false\"\n",
    "config[\"vfs.s3.aws_access_key_id\"] = \"189XB7837GTE0Kt1lv6b\"\n",
    "config[\"vfs.s3.aws_secret_access_key\"] = \"aQ3nGhtwk8Qod24f201KAMzShU5Y5VUgVOQL0XG5\"\n",
    "\n",
    "# Create contex\n",
    "ctx = tiledb.Ctx(config)\n",
    "\n"
   ]
  },
  {
   "cell_type": "code",
   "execution_count": 20,
   "metadata": {},
   "outputs": [
    {
     "name": "stdout",
     "output_type": "stream",
     "text": [
      "array4\n"
     ]
    }
   ],
   "source": [
    "array_name = f\"array{num_time_steps}\"\n",
    "# array_name = f\"array_{num_time_steps}lz4\"\n",
    "# array_name = f\"array_{num_time_steps}zstd\"\n",
    "# array_name = f\"array_{num_time_steps}gzip\"\n",
    "\n",
    "\n",
    "# array_uri = f\"/home2/aoyagir/tiledb_data/{array_name}\"\n",
    "array_uri = f\"s3://{array_name}\"\n",
    "print(array_name)\n",
    "\n",
    "array_schema = tiledb.ArraySchema(\n",
    "    domain=tiledb.Domain(\n",
    "        tiledb.Dim(name=\"timestep\",domain=(0, num_time_steps - 1), tile=1, dtype=np.uint64),\n",
    "        tiledb.Dim(name=\"x\", domain=(0, 1023), tile=256, dtype=np.uint64),\n",
    "        tiledb.Dim(name=\"y\", domain=(0, 1023), tile=256, dtype=np.uint64),\n",
    "        tiledb.Dim(name=\"z\", domain=(0, 1023), tile=256, dtype=np.uint64),\n",
    "    ),\n",
    "    attrs=[tiledb.Attr(name=\"data\", dtype=np.float32)],\n",
    "    # filters=tiledb.FilterList([tiledb.LZ4Filter()]),  # Enable LZ4 compression\n",
    "    # filters=tiledb.FilterList([gzip_filter])\n",
    "    # filters=tiledb.FilterList([zstd_filter])\n",
    "    # filters=tiledb.FilterList([blosc_filter])\n",
    ")\n",
    "\n",
    "tiledb.Array.create(array_uri, array_schema,ctx=ctx)"
   ]
  },
  {
   "cell_type": "code",
   "execution_count": 21,
   "metadata": {},
   "outputs": [
    {
     "name": "stdout",
     "output_type": "stream",
     "text": [
      "timestep1 is done\n",
      "timestep2 is done\n",
      "timestep3 is done\n"
     ]
    }
   ],
   "source": [
    "# Iterate over the .npy files and write to the TileDB dataset\n",
    "for timestep in range(1, num_time_steps):\n",
    "    file_path = f'/home2/aoyagir/isotropic1024coarse/pressure2_time_steps/t_{timestep:04}.npy'\n",
    "    if os.path.exists(file_path):\n",
    "        # Load the .npy file\n",
    "        data_3d = np.load(file_path).astype(np.float32)\n",
    "\n",
    "        # Open the TileDB array for writing\n",
    "        with tiledb.DenseArray(array_uri, mode=\"w\", ctx=ctx) as array:\n",
    "            # Define the coordinates for this timestep\n",
    "            coords = (timestep-1, slice(0, 1024), slice(0, 1024), slice(0, 1024))\n",
    "            # Write the 3D data to the TileDB array\n",
    "            array[coords] = data_3d\n",
    "        print(f\"timestep{timestep} is done\")\n",
    "    else:\n",
    "        print(f\"File doesn't exist for timestep {timestep}\")"
   ]
  },
  {
   "cell_type": "code",
   "execution_count": 22,
   "metadata": {},
   "outputs": [],
   "source": [
    "config = tiledb.Config()\n",
    "\n",
    "# Set Minio-specific configuration options\n",
    " \n",
    "\n",
    "config[\"vfs.s3.scheme\"] = \"http\"\n",
    "config[\"vfs.s3.region\"] = \"\"\n",
    "config[\"vfs.s3.endpoint_override\"] = \"172.20.2.253:9000\"\n",
    "config[\"vfs.s3.use_virtual_addressing\"] = \"false\"\n",
    "config[\"vfs.s3.aws_access_key_id\"] = \"189XB7837GTE0Kt1lv6b\"\n",
    "config[\"vfs.s3.aws_secret_access_key\"] = \"aQ3nGhtwk8Qod24f201KAMzShU5Y5VUgVOQL0XG5\"\n",
    "\n",
    "# Create contex\n",
    "ctx = tiledb.Ctx(config)"
   ]
  },
  {
   "cell_type": "code",
   "execution_count": 23,
   "metadata": {},
   "outputs": [
    {
     "name": "stdout",
     "output_type": "stream",
     "text": [
      "Array Schema:\n",
      "ArraySchema(\n",
      "  domain=Domain(*[\n",
      "    Dim(name='timestep', domain=(0, 3), tile=1, dtype='uint64', filters=FilterList([ZstdFilter(level=-1), ])),\n",
      "    Dim(name='x', domain=(0, 1023), tile=256, dtype='uint64', filters=FilterList([ZstdFilter(level=-1), ])),\n",
      "    Dim(name='y', domain=(0, 1023), tile=256, dtype='uint64', filters=FilterList([ZstdFilter(level=-1), ])),\n",
      "    Dim(name='z', domain=(0, 1023), tile=256, dtype='uint64', filters=FilterList([ZstdFilter(level=-1), ])),\n",
      "  ]),\n",
      "  attrs=[\n",
      "    Attr(name='data', dtype='float32', var=False, nullable=False, enum_label=None),\n",
      "  ],\n",
      "  cell_order='row-major',\n",
      "  tile_order='row-major',\n",
      "  sparse=False,\n",
      ")\n",
      "\n",
      "Domain: Domain(Dim(name='timestep', domain=(0, 3), tile=1, dtype='uint64', filters=FilterList([ZstdFilter(level=-1), ])),\n",
      "       Dim(name='x', domain=(0, 1023), tile=256, dtype='uint64', filters=FilterList([ZstdFilter(level=-1), ])),\n",
      "       Dim(name='y', domain=(0, 1023), tile=256, dtype='uint64', filters=FilterList([ZstdFilter(level=-1), ])),\n",
      "       Dim(name='z', domain=(0, 1023), tile=256, dtype='uint64', filters=FilterList([ZstdFilter(level=-1), ])))\n"
     ]
    }
   ],
   "source": [
    "with tiledb.open(array_uri, mode=\"r\", ctx=ctx) as array:\n",
    "    # Retrieve and print the array schema\n",
    "    array_schema = array.schema\n",
    "    print(\"Array Schema:\")\n",
    "    print(array_schema)\n",
    "\n",
    "    # You can also access other information about the array, such as its domain and attributes\n",
    "    domain = array_schema.domain\n",
    "\n",
    "\n",
    "    print(\"Domain:\", domain)\n",
    "\n",
    "\n"
   ]
  },
  {
   "cell_type": "code",
   "execution_count": 27,
   "metadata": {},
   "outputs": [
    {
     "name": "stdout",
     "output_type": "stream",
     "text": [
      "OrderedDict([('data', array([[[ 0.30191338,  0.2950729 ,  0.28597635, ..., -0.28747082,\n",
      "         -0.29483193, -0.30216688],\n",
      "        [ 0.30330813,  0.29460722,  0.2836517 , ..., -0.29126596,\n",
      "         -0.29815337, -0.30518842],\n",
      "        [ 0.2975547 ,  0.28577524,  0.27363893, ..., -0.29572615,\n",
      "         -0.30240864, -0.3094731 ],\n",
      "        ...,\n",
      "        [-0.78851926, -0.79056543, -0.79237366, ...,  0.02012964,\n",
      "          0.01824734,  0.01457602],\n",
      "        [-0.78407156, -0.78569424, -0.7869962 , ...,  0.01964203,\n",
      "          0.0169096 ,  0.01383047],\n",
      "        [-0.779228  , -0.7805062 , -0.7815094 , ...,  0.02062516,\n",
      "          0.01819261,  0.01639227]],\n",
      "\n",
      "       [[ 0.29940894,  0.29601768,  0.29162994, ..., -0.28254396,\n",
      "         -0.29037338, -0.29868338],\n",
      "        [ 0.3002585 ,  0.29563743,  0.289917  , ..., -0.2869631 ,\n",
      "         -0.2942592 , -0.30214715],\n",
      "        [ 0.29535323,  0.2889055 ,  0.28194022, ..., -0.29204836,\n",
      "         -0.29905045, -0.30672434],\n",
      "        ...,\n",
      "        [-0.8062171 , -0.8082939 , -0.81003195, ...,  0.03255031,\n",
      "          0.03931683,  0.04087745],\n",
      "        [-0.80154955, -0.8033209 , -0.8046203 , ...,  0.03022475,\n",
      "          0.03428667,  0.03585948],\n",
      "        [-0.79636705, -0.7977856 , -0.7988057 , ...,  0.02863991,\n",
      "          0.03128231,  0.03346314]],\n",
      "\n",
      "       [[ 0.3018312 ,  0.30014834,  0.29751754, ..., -0.2768669 ,\n",
      "         -0.28479463, -0.29386804],\n",
      "        [ 0.30059883,  0.2987659 ,  0.29534575, ..., -0.28178117,\n",
      "         -0.28927383, -0.2978876 ],\n",
      "        [ 0.29670358,  0.2942623 ,  0.28991356, ..., -0.28740615,\n",
      "         -0.2946083 , -0.30286106],\n",
      "        ...,\n",
      "        [-0.82413083, -0.8261808 , -0.82772756, ...,  0.03759827,\n",
      "          0.05506551,  0.06461   ],\n",
      "        [-0.81955016, -0.8213443 , -0.82249665, ...,  0.03610779,\n",
      "          0.04923587,  0.05707419],\n",
      "        [-0.8141136 , -0.8156222 , -0.81662285, ...,  0.03414977,\n",
      "          0.04410584,  0.05125462]],\n",
      "\n",
      "       ...,\n",
      "\n",
      "       [[-0.20267285, -0.17809416, -0.15994886, ..., -0.09932287,\n",
      "         -0.10364302, -0.1079567 ],\n",
      "        [-0.18602298, -0.16073301, -0.14176157, ..., -0.08654431,\n",
      "         -0.09086907, -0.09523699],\n",
      "        [-0.1694035 , -0.14314848, -0.12280343, ..., -0.07412935,\n",
      "         -0.07846875, -0.08307219],\n",
      "        ...,\n",
      "        [ 0.47788742,  0.48503113,  0.49180597, ...,  0.4514479 ,\n",
      "          0.45382327,  0.44838428],\n",
      "        [ 0.46665794,  0.47533858,  0.4842149 , ...,  0.4511654 ,\n",
      "          0.46080393,  0.45272604],\n",
      "        [ 0.47281775,  0.4812364 ,  0.49050906, ...,  0.4730214 ,\n",
      "          0.47614193,  0.4711396 ]],\n",
      "\n",
      "       [[-0.21870585, -0.19226503, -0.17240386, ..., -0.08645606,\n",
      "         -0.09137132, -0.09600998],\n",
      "        [-0.20096953, -0.17368363, -0.15283272, ..., -0.07426842,\n",
      "         -0.07904588, -0.08381538],\n",
      "        [-0.18314156, -0.15477902, -0.1329571 , ..., -0.06204874,\n",
      "         -0.0668296 , -0.07198442],\n",
      "        ...,\n",
      "        [ 0.46399575,  0.47468525,  0.48446596, ...,  0.46338102,\n",
      "          0.46270436,  0.45985088],\n",
      "        [ 0.4587797 ,  0.4710136 ,  0.48268682, ...,  0.4465694 ,\n",
      "          0.45974556,  0.45852622],\n",
      "        [ 0.4718561 ,  0.48279548,  0.49343497, ...,  0.45519018,\n",
      "          0.46514058,  0.4693412 ]],\n",
      "\n",
      "       [[-0.23103388, -0.2029678 , -0.18093029, ..., -0.073783  ,\n",
      "         -0.07915961, -0.08407505],\n",
      "        [-0.21222407, -0.18316773, -0.1601989 , ..., -0.06155445,\n",
      "         -0.0667768 , -0.07189825],\n",
      "        [-0.19356738, -0.1636588 , -0.14020777, ..., -0.04945344,\n",
      "         -0.05483894, -0.06038468],\n",
      "        ...,\n",
      "        [ 0.47203058,  0.4832168 ,  0.49232942, ...,  0.48652264,\n",
      "          0.4760359 ,  0.4740408 ],\n",
      "        [ 0.470925  ,  0.48286515,  0.4929842 , ...,  0.46851212,\n",
      "          0.46784833,  0.4684698 ],\n",
      "        [ 0.48169032,  0.4918398 ,  0.5007342 , ...,  0.45840442,\n",
      "          0.45950976,  0.46928242]]], dtype=float32))])\n"
     ]
    }
   ],
   "source": [
    "with tiledb.DenseArray(array_uri, mode=\"r\", ctx=ctx) as array:\n",
    "    # Read the sliced data from the TileDB array using 'from' and 'to' expressions\n",
    "    data = array[0, 0:256, 0:256, 0:256]\n",
    "    print(data)"
   ]
  },
  {
   "cell_type": "code",
   "execution_count": null,
   "metadata": {},
   "outputs": [],
   "source": []
  }
 ],
 "metadata": {
  "kernelspec": {
   "display_name": "Python 3",
   "language": "python",
   "name": "python3"
  },
  "language_info": {
   "codemirror_mode": {
    "name": "ipython",
    "version": 3
   },
   "file_extension": ".py",
   "mimetype": "text/x-python",
   "name": "python",
   "nbconvert_exporter": "python",
   "pygments_lexer": "ipython3",
   "version": "3.10.12"
  }
 },
 "nbformat": 4,
 "nbformat_minor": 2
}
