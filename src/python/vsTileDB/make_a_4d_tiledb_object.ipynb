{
 "cells": [
  {
   "cell_type": "code",
   "execution_count": 38,
   "id": "489195b1",
   "metadata": {},
   "outputs": [],
   "source": [
    "import os\n",
    "import sys\n",
    "import ctypes\n",
    "import math\n",
    "import numpy\n",
    "import numpy as np\n",
    "import h5py\n",
    "import tiledb"
   ]
  },
  {
   "cell_type": "code",
   "execution_count": 39,
   "id": "1fb4e0bd",
   "metadata": {},
   "outputs": [],
   "source": [
    "# Total number of time steps\n",
    "# num_time_steps = 257\n",
    "num_time_steps = 5\n",
    "\n",
    "# Shape of the array for each time step\n",
    "array_shape = (1024, 1024, 1024)\n",
    "\n",
    "# Iterate over the .npy files and write to the HDF5 dataset\n",
    "for timestep in range(1,num_time_steps):\n",
    "    # Load the .npy file\n",
    "    file_path = f'/home2/aoyagir/isotropic1024coarse/pressure2_time_steps/t_{timestep:04}.npy'\n",
    "    if os.path.exists(file_path):\n",
    "        # print(\"iine\")\n",
    "        pass\n",
    "    else:\n",
    "        print(\"doesnt exists\")"
   ]
  },
  {
   "cell_type": "code",
   "execution_count": 40,
   "metadata": {},
   "outputs": [],
   "source": [
    "# Set the TileDB context and configure the array schema\n",
    "ctx = tiledb.Ctx()\n",
    "\n",
    "array_name = f\"array_{num_time_steps}\"\n",
    "# array_name = f\"array_{num_time_steps}_lz4\"\n",
    "# array_name = f\"array_{num_time_steps}_zstd\"\n",
    "# array_name = f\"array_{num_time_steps}_gzip\"\n",
    "\n",
    "\n",
    "# array_uri = f\"/home2/aoyagir/tiledb_data/{array_name}\"\n",
    "array_uri = f\"/scratch/aoyagir/minio_data/tiledb/{array_name}\"\n",
    "\n",
    "array_schema = tiledb.ArraySchema(\n",
    "    domain=tiledb.Domain(\n",
    "        tiledb.Dim(name=\"timestep\",domain=(0, num_time_steps - 1), tile=1, dtype=np.uint64),\n",
    "        tiledb.Dim(name=\"x\", domain=(0, 1023), tile=256, dtype=np.uint64),\n",
    "        tiledb.Dim(name=\"y\", domain=(0, 1023), tile=256, dtype=np.uint64),\n",
    "        tiledb.Dim(name=\"z\", domain=(0, 1023), tile=256, dtype=np.uint64),\n",
    "    ),\n",
    "    attrs=[tiledb.Attr(name=\"data\", dtype=np.float32)],\n",
    "    # filters=tiledb.FilterList([tiledb.LZ4Filter()]),  # Enable LZ4 compression\n",
    "    # filters=tiledb.FilterList([gzip_filter])\n",
    "    # filters=tiledb.FilterList([zstd_filter])\n",
    "    # filters=tiledb.FilterList([blosc_filter])\n",
    ")\n",
    "\n",
    "if not tiledb.object_type(array_uri, ctx=ctx):\n",
    "    tiledb.Array.create(array_uri, array_schema)"
   ]
  },
  {
   "cell_type": "code",
   "execution_count": 41,
   "metadata": {},
   "outputs": [
    {
     "name": "stdout",
     "output_type": "stream",
     "text": [
      "slice(0, 1023, None)\n"
     ]
    }
   ],
   "source": [
    "print(slice(0,1023))\n",
    "a = (slice(0,1023))"
   ]
  },
  {
   "cell_type": "code",
   "execution_count": 42,
   "id": "b2884400",
   "metadata": {},
   "outputs": [
    {
     "name": "stdout",
     "output_type": "stream",
     "text": [
      "timestep1 is done\n",
      "timestep2 is done\n",
      "timestep3 is done\n",
      "timestep4 is done\n"
     ]
    }
   ],
   "source": [
    "# Iterate over the .npy files and write to the TileDB dataset\n",
    "for timestep in range(1, num_time_steps):\n",
    "    file_path = f'/home2/aoyagir/isotropic1024coarse/pressure2_time_steps/t_{timestep:04}.npy'\n",
    "    if os.path.exists(file_path):\n",
    "        # Load the .npy file\n",
    "        data_3d = np.load(file_path).astype(np.float32)\n",
    "\n",
    "        # Open the TileDB array for writing\n",
    "        with tiledb.DenseArray(array_uri, mode=\"w\", ctx=ctx) as array:\n",
    "            # Define the coordinates for this timestep\n",
    "            coords = (timestep-1, slice(0, 1024), slice(0, 1024), slice(0, 1024))\n",
    "            # Write the 3D data to the TileDB array\n",
    "            array[coords] = data_3d\n",
    "        print(f\"timestep{timestep} is done\")\n",
    "    else:\n",
    "        print(f\"File doesn't exist for timestep {timestep}\")\n"
   ]
  },
  {
   "cell_type": "code",
   "execution_count": 43,
   "metadata": {},
   "outputs": [
    {
     "name": "stdout",
     "output_type": "stream",
     "text": [
      "OrderedDict([('data', array(0.3150467, dtype=float32))])\n"
     ]
    }
   ],
   "source": [
    "# read the file\n",
    "with tiledb.DenseArray(array_uri, mode=\"r\", ctx=ctx) as array:\n",
    "    # Read data for a specific timestep, x, y, z\n",
    "    timestep = 1\n",
    "    x = 1000\n",
    "    y = 1000\n",
    "    z = 1000\n",
    "    data = array[timestep, x, y, z]\n",
    "    print(data)"
   ]
  },
  {
   "cell_type": "code",
   "execution_count": 44,
   "metadata": {},
   "outputs": [
    {
     "name": "stdout",
     "output_type": "stream",
     "text": [
      "OrderedDict([('data', array([[[ 0.3053694 ,  0.2976655 ,  0.28795236, ..., -0.28638342,\n",
      "         -0.29360807, -0.30097735],\n",
      "        [ 0.30436593,  0.2952228 ,  0.2838828 , ..., -0.29048863,\n",
      "         -0.2972544 , -0.30433214],\n",
      "        [ 0.296399  ,  0.2840166 ,  0.27213436, ..., -0.2952025 ,\n",
      "         -0.3017412 , -0.30872965],\n",
      "        ...,\n",
      "        [-0.78725076, -0.78911626, -0.7908375 , ...,  0.02542291,\n",
      "          0.02436218,  0.02173092],\n",
      "        [-0.782719  , -0.784177  , -0.78539985, ...,  0.02399603,\n",
      "          0.02203757,  0.02003286],\n",
      "        [-0.777802  , -0.77897257, -0.77992076, ...,  0.0241271 ,\n",
      "          0.02226389,  0.02131218]],\n",
      "\n",
      "       [[ 0.30238938,  0.29829192,  0.29373628, ..., -0.2813281 ,\n",
      "         -0.2888389 , -0.2969703 ],\n",
      "        [ 0.30204046,  0.29705822,  0.29095107, ..., -0.28609055,\n",
      "         -0.2930829 , -0.3008195 ],\n",
      "        [ 0.29479116,  0.2878434 ,  0.28100026, ..., -0.29144186,\n",
      "         -0.29812127, -0.30557385],\n",
      "        ...,\n",
      "        [-0.8048645 , -0.80681586, -0.80848694, ...,  0.03684241,\n",
      "          0.04467212,  0.04745939],\n",
      "        [-0.8000705 , -0.8017204 , -0.803018  , ...,  0.03410401,\n",
      "          0.03887623,  0.04145202],\n",
      "        [-0.7948519 , -0.796141  , -0.7971641 , ...,  0.03187877,\n",
      "          0.03499772,  0.03804249]],\n",
      "\n",
      "       [[ 0.30354267,  0.30154535,  0.29905415, ..., -0.27566868,\n",
      "         -0.28308967, -0.29170868],\n",
      "        [ 0.30234614,  0.30022568,  0.29692098, ..., -0.28083885,\n",
      "         -0.2879197 , -0.29613477],\n",
      "        [ 0.29677987,  0.29366413,  0.28983545, ..., -0.28672695,\n",
      "         -0.2934999 , -0.3013918 ],\n",
      "        ...,\n",
      "        [-0.8227209 , -0.82470006, -0.8262387 , ...,  0.04050379,\n",
      "          0.05871474,  0.06958807],\n",
      "        [-0.8180177 , -0.81973606, -0.8208997 , ...,  0.03895994,\n",
      "          0.05274933,  0.06168292],\n",
      "        [-0.8124981 , -0.8138945 , -0.81488895, ...,  0.03687695,\n",
      "          0.04736725,  0.05532685]],\n",
      "\n",
      "       ...,\n",
      "\n",
      "       [[-0.20332913, -0.17870793, -0.16010854, ..., -0.10035824,\n",
      "         -0.10491036, -0.10955135],\n",
      "        [-0.186984  , -0.16156177, -0.14206845, ..., -0.08771575,\n",
      "         -0.09225805, -0.09698848],\n",
      "        [-0.17077208, -0.14438944, -0.12358172, ..., -0.07521322,\n",
      "         -0.07980897, -0.08474457],\n",
      "        ...,\n",
      "        [ 0.47565442,  0.48299712,  0.4900597 , ...,  0.45096695,\n",
      "          0.45460176,  0.45140278],\n",
      "        [ 0.4683407 ,  0.476902  ,  0.48576713, ...,  0.44328797,\n",
      "          0.45749453,  0.4535981 ],\n",
      "        [ 0.47691113,  0.48523673,  0.49425524, ...,  0.46214816,\n",
      "          0.46902877,  0.46773496]],\n",
      "\n",
      "       [[-0.21998872, -0.19351463, -0.1728515 , ..., -0.08774108,\n",
      "         -0.09283768, -0.09760651],\n",
      "        [-0.20257965, -0.17518951, -0.15357286, ..., -0.07555982,\n",
      "         -0.08054909, -0.08548407],\n",
      "        [-0.18514265, -0.15662897, -0.13414608, ..., -0.06327272,\n",
      "         -0.06834452, -0.07368095],\n",
      "        ...,\n",
      "        [ 0.46145377,  0.47272497,  0.48305815, ...,  0.47018754,\n",
      "          0.4654457 ,  0.46412277],\n",
      "        [ 0.46110594,  0.4732857 ,  0.48483488, ...,  0.4493691 ,\n",
      "          0.45829728,  0.4606804 ],\n",
      "        [ 0.47605395,  0.48684818,  0.49702004, ...,  0.4501095 ,\n",
      "          0.45723197,  0.4657851 ]],\n",
      "\n",
      "       [[-0.23289259, -0.20474331, -0.18173361, ..., -0.07520436,\n",
      "         -0.08070081, -0.08577125],\n",
      "        [-0.2144019 , -0.18530163, -0.16146025, ..., -0.06301821,\n",
      "         -0.06838711, -0.07374076],\n",
      "        [-0.19600563, -0.16607575, -0.14182878, ..., -0.05088713,\n",
      "         -0.05646051, -0.06223908],\n",
      "        ...,\n",
      "        [ 0.4690442 ,  0.48095834,  0.49066055, ...,  0.4946002 ,\n",
      "          0.48045176,  0.47907287],\n",
      "        [ 0.47200108,  0.48399723,  0.49404544, ...,  0.48071033,\n",
      "          0.47219652,  0.47255465],\n",
      "        [ 0.483862  ,  0.49387035,  0.50249195, ...,  0.46549988,\n",
      "          0.45842862,  0.46719033]]], dtype=float32))])\n"
     ]
    }
   ],
   "source": [
    "# slice the data \n",
    "with tiledb.DenseArray(array_uri, mode=\"r\", ctx=ctx) as array:\n",
    "    # Read the sliced data from the TileDB array using 'from' and 'to' expressions\n",
    "    data = array[1, 0:256, 0:256, 0:256]\n",
    "    print(data)\n"
   ]
  },
  {
   "cell_type": "code",
   "execution_count": null,
   "metadata": {},
   "outputs": [],
   "source": []
  }
 ],
 "metadata": {
  "kernelspec": {
   "display_name": "Python 3 (ipykernel)",
   "language": "python",
   "name": "python3"
  },
  "language_info": {
   "codemirror_mode": {
    "name": "ipython",
    "version": 3
   },
   "file_extension": ".py",
   "mimetype": "text/x-python",
   "name": "python",
   "nbconvert_exporter": "python",
   "pygments_lexer": "ipython3",
   "version": "3.10.12"
  }
 },
 "nbformat": 4,
 "nbformat_minor": 5
}
