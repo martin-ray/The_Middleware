{
 "cells": [
  {
   "cell_type": "code",
   "execution_count": 2,
   "metadata": {},
   "outputs": [],
   "source": [
    "import pandas as pd\n",
    "import numpy as np\n",
    "import matplotlib.pyplot as plt\n",
    "import seaborn as sns\n",
    "import sklearn as sl"
   ]
  },
  {
   "cell_type": "code",
   "execution_count": 3,
   "metadata": {},
   "outputs": [
    {
     "data": {
      "text/html": [
       "<div>\n",
       "<style scoped>\n",
       "    .dataframe tbody tr th:only-of-type {\n",
       "        vertical-align: middle;\n",
       "    }\n",
       "\n",
       "    .dataframe tbody tr th {\n",
       "        vertical-align: top;\n",
       "    }\n",
       "\n",
       "    .dataframe thead th {\n",
       "        text-align: right;\n",
       "    }\n",
       "</style>\n",
       "<table border=\"1\" class=\"dataframe\">\n",
       "  <thead>\n",
       "    <tr style=\"text-align: right;\">\n",
       "      <th></th>\n",
       "      <th>tol</th>\n",
       "      <th>oriSize</th>\n",
       "      <th>compressedsize</th>\n",
       "      <th>psnr</th>\n",
       "      <th>max_error</th>\n",
       "      <th>comp_ratio</th>\n",
       "      <th>is_quantimized</th>\n",
       "      <th>time</th>\n",
       "    </tr>\n",
       "  </thead>\n",
       "  <tbody>\n",
       "    <tr>\n",
       "      <th>0</th>\n",
       "      <td>0.00001</td>\n",
       "      <td>1073741824</td>\n",
       "      <td>516612451</td>\n",
       "      <td>117.393399</td>\n",
       "      <td>0.000012</td>\n",
       "      <td>2.077659</td>\n",
       "      <td>No</td>\n",
       "      <td>2.775991</td>\n",
       "    </tr>\n",
       "    <tr>\n",
       "      <th>1</th>\n",
       "      <td>0.00000</td>\n",
       "      <td>2147483648</td>\n",
       "      <td>536672250</td>\n",
       "      <td>85.523682</td>\n",
       "      <td>0.000977</td>\n",
       "      <td>2.000000</td>\n",
       "      <td>Yes</td>\n",
       "      <td>2.166082</td>\n",
       "    </tr>\n",
       "    <tr>\n",
       "      <th>2</th>\n",
       "      <td>0.00001</td>\n",
       "      <td>2147483648</td>\n",
       "      <td>1042579859</td>\n",
       "      <td>118.175915</td>\n",
       "      <td>0.000023</td>\n",
       "      <td>2.054087</td>\n",
       "      <td>No</td>\n",
       "      <td>5.243541</td>\n",
       "    </tr>\n",
       "    <tr>\n",
       "      <th>3</th>\n",
       "      <td>0.00001</td>\n",
       "      <td>4294967296</td>\n",
       "      <td>2766447413</td>\n",
       "      <td>124.477385</td>\n",
       "      <td>0.000013</td>\n",
       "      <td>1.547977</td>\n",
       "      <td>No</td>\n",
       "      <td>14.047730</td>\n",
       "    </tr>\n",
       "    <tr>\n",
       "      <th>4</th>\n",
       "      <td>0.00005</td>\n",
       "      <td>1073741824</td>\n",
       "      <td>328725579</td>\n",
       "      <td>103.413701</td>\n",
       "      <td>0.000064</td>\n",
       "      <td>3.265169</td>\n",
       "      <td>No</td>\n",
       "      <td>3.251665</td>\n",
       "    </tr>\n",
       "  </tbody>\n",
       "</table>\n",
       "</div>"
      ],
      "text/plain": [
       "       tol     oriSize  compressedsize        psnr  max_error  comp_ratio  \\\n",
       "0  0.00001  1073741824       516612451  117.393399   0.000012    2.077659   \n",
       "1  0.00000  2147483648       536672250   85.523682   0.000977    2.000000   \n",
       "2  0.00001  2147483648      1042579859  118.175915   0.000023    2.054087   \n",
       "3  0.00001  4294967296      2766447413  124.477385   0.000013    1.547977   \n",
       "4  0.00005  1073741824       328725579  103.413701   0.000064    3.265169   \n",
       "\n",
       "  is_quantimized       time  \n",
       "0             No   2.775991  \n",
       "1            Yes   2.166082  \n",
       "2             No   5.243541  \n",
       "3             No  14.047730  \n",
       "4             No   3.251665  "
      ]
     },
     "execution_count": 3,
     "metadata": {},
     "output_type": "execute_result"
    }
   ],
   "source": [
    "\n",
    "df = pd.read_csv('./bench_20231213_101000_timestep_128_psrn_by_tol.csv')\n",
    "df.head()"
   ]
  },
  {
   "cell_type": "code",
   "execution_count": 4,
   "metadata": {},
   "outputs": [],
   "source": [
    "mgard = df[(df[\"oriSize\"] ==4294967296) & (df[\"is_quantimized\"] == \"No\")]\n",
    "fp16 = df[(df[\"oriSize\"] ==4294967296) & (df[\"is_quantimized\"] == \"Yes\")]\n",
    "\n",
    "comp_ratio = mgard[\"comp_ratio\"]\n",
    "psnr =  mgard[\"psnr\"]\n",
    "fp16_comp_ratio = 2.0\n",
    "fp16_psnr = 86.369534"
   ]
  },
  {
   "cell_type": "code",
   "execution_count": 5,
   "metadata": {},
   "outputs": [],
   "source": [
    "fp16_comp_ratio = 2.0\n",
    "fp16_psnr = 86.369534"
   ]
  },
  {
   "cell_type": "code",
   "execution_count": 13,
   "metadata": {},
   "outputs": [],
   "source": [
    "cuSZp_comp_ratio = [27.13, 11.158, 5.72,4.8903, 3.62, 3.2585,  2.636, 2.07] \n",
    "cuSZp_tol = [0.1, 0.01, 0.001,0.0005, 0.0001, 0.00005, 0.00001, 0.000001]\n",
    "cuSZp_psnr = [27.13, 44.76, 64.7711, 70.7918, 84.77, 90.79, 104.77, 124.77]"
   ]
  },
  {
   "cell_type": "code",
   "execution_count": 15,
   "metadata": {},
   "outputs": [
    {
     "data": {
      "image/png": "[encoded data removed]",
      "text/plain": [
       "<Figure size 640x480 with 1 Axes>"
      ]
     },
     "metadata": {},
     "output_type": "display_data"
    }
   ],
   "source": [
    "plt.scatter(comp_ratio, psnr, label='MGARD', marker='o', color='blue',)\n",
    "plt.scatter(fp16_comp_ratio,fp16_psnr, label=\"FP16\",color=\"red\")\n",
    "plt.scatter(cuSZp_comp_ratio,cuSZp_psnr,label=\"cuSZp\",color=\"green\")\n",
    "plt.xlabel(\"compression ratio\")\n",
    "plt.ylabel(\"PSNR\")\n",
    "plt.legend()\n",
    "plt.savefig(\"szVsMGARDvsFP16\")"
   ]
  },
  {
   "cell_type": "code",
   "execution_count": 17,
   "metadata": {},
   "outputs": [
    {
     "data": {
      "text/html": [
       "<div>\n",
       "<style scoped>\n",
       "    .dataframe tbody tr th:only-of-type {\n",
       "        vertical-align: middle;\n",
       "    }\n",
       "\n",
       "    .dataframe tbody tr th {\n",
       "        vertical-align: top;\n",
       "    }\n",
       "\n",
       "    .dataframe thead th {\n",
       "        text-align: right;\n",
       "    }\n",
       "</style>\n",
       "<table border=\"1\" class=\"dataframe\">\n",
       "  <thead>\n",
       "    <tr style=\"text-align: right;\">\n",
       "      <th></th>\n",
       "      <th>tol</th>\n",
       "      <th>oriSize</th>\n",
       "      <th>compressedsize</th>\n",
       "      <th>psnr</th>\n",
       "      <th>comp_ratio</th>\n",
       "      <th>is_quantimized</th>\n",
       "      <th>time</th>\n",
       "    </tr>\n",
       "  </thead>\n",
       "  <tbody>\n",
       "    <tr>\n",
       "      <th>0</th>\n",
       "      <td>0.00001</td>\n",
       "      <td>1073741824</td>\n",
       "      <td>516612451</td>\n",
       "      <td>117.393399</td>\n",
       "      <td>2.077659</td>\n",
       "      <td>No</td>\n",
       "      <td>2.771015</td>\n",
       "    </tr>\n",
       "    <tr>\n",
       "      <th>1</th>\n",
       "      <td>0.00000</td>\n",
       "      <td>2147483648</td>\n",
       "      <td>536672250</td>\n",
       "      <td>85.523682</td>\n",
       "      <td>2.000000</td>\n",
       "      <td>Yes</td>\n",
       "      <td>2.145995</td>\n",
       "    </tr>\n",
       "    <tr>\n",
       "      <th>2</th>\n",
       "      <td>0.00001</td>\n",
       "      <td>2147483648</td>\n",
       "      <td>1042579859</td>\n",
       "      <td>118.175915</td>\n",
       "      <td>2.054087</td>\n",
       "      <td>No</td>\n",
       "      <td>5.368383</td>\n",
       "    </tr>\n",
       "    <tr>\n",
       "      <th>3</th>\n",
       "      <td>0.00000</td>\n",
       "      <td>4294967296</td>\n",
       "      <td>1070774656</td>\n",
       "      <td>86.369534</td>\n",
       "      <td>2.000000</td>\n",
       "      <td>Yes</td>\n",
       "      <td>4.287386</td>\n",
       "    </tr>\n",
       "    <tr>\n",
       "      <th>4</th>\n",
       "      <td>0.00001</td>\n",
       "      <td>4294967296</td>\n",
       "      <td>2766447413</td>\n",
       "      <td>124.477385</td>\n",
       "      <td>1.547977</td>\n",
       "      <td>No</td>\n",
       "      <td>16.729396</td>\n",
       "    </tr>\n",
       "  </tbody>\n",
       "</table>\n",
       "</div>"
      ],
      "text/plain": [
       "       tol     oriSize  compressedsize        psnr  comp_ratio is_quantimized  \\\n",
       "0  0.00001  1073741824       516612451  117.393399    2.077659             No   \n",
       "1  0.00000  2147483648       536672250   85.523682    2.000000            Yes   \n",
       "2  0.00001  2147483648      1042579859  118.175915    2.054087             No   \n",
       "3  0.00000  4294967296      1070774656   86.369534    2.000000            Yes   \n",
       "4  0.00001  4294967296      2766447413  124.477385    1.547977             No   \n",
       "\n",
       "        time  \n",
       "0   2.771015  \n",
       "1   2.145995  \n",
       "2   5.368383  \n",
       "3   4.287386  \n",
       "4  16.729396  "
      ]
     },
     "execution_count": 17,
     "metadata": {},
     "output_type": "execute_result"
    }
   ],
   "source": [
    "# time for compression and quantimization\n",
    "df.head()\n"
   ]
  },
  {
   "cell_type": "code",
   "execution_count": null,
   "metadata": {},
   "outputs": [],
   "source": [
    "mgard = df[(df[\"is_quantimized\"] == \"No\")]\n",
    "fp16 = df[(df[\"is_quantimized\"] == \"Yes\")]"
   ]
  }
 ],
 "metadata": {
  "kernelspec": {
   "display_name": "Python 3",
   "language": "python",
   "name": "python3"
  },
  "language_info": {
   "codemirror_mode": {
    "name": "ipython",
    "version": 3
   },
   "file_extension": ".py",
   "mimetype": "text/x-python",
   "name": "python",
   "nbconvert_exporter": "python",
   "pygments_lexer": "ipython3",
   "version": "3.10.12"
  }
 },
 "nbformat": 4,
 "nbformat_minor": 2
}
